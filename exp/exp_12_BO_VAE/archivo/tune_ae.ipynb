{
 "cells": [
  {
   "cell_type": "code",
   "execution_count": 1,
   "id": "704543c2",
   "metadata": {},
   "outputs": [],
   "source": [
    "import torch.nn as nn\n",
    "# This can come from a YAML file in a production environment\n",
    "# In the config dict we set the range of values for the trial object to suggest from.\n",
    "cfg = {\"LAYERS_LOWER_LIMIT\": 2,\n",
    "       \"LAYERS_UPPER_LIMIT\": 6,\n",
    "       \"DROPOUT_LOWER_LIMIT\": 0.05,\n",
    "       \"DROPOUT_UPPER_LIMIT\": 0.2,\n",
    "       'LR_LOWER_LIMIT': 0.001,\n",
    "       'LR_UPPER_LIMIT': 0.05,\n",
    "       'EPOCHS': 50}\n",
    "\n",
    "class AETune(nn.Module):\n",
    "    def __init__(self, trial, input_dim, cfg):\n",
    "        super(AETune, self).__init__()\n",
    "        self.trial = trial # optuna trial object\n",
    "        self.cfg = cfg # configuration dict\n",
    "        self.input_dim = input_dim # number of features for input data\n",
    "\n",
    "\n",
    "        self.n_layers = self.trial.suggest_int('n_layers',\n",
    "                                               cfg['LAYERS_LOWER_LIMIT'],\n",
    "                                               cfg['LAYERS_UPPER_LIMIT'])\n",
    "        encoder_layers = [] # here we save all the layers depending on layer size\n",
    "        prev_dim_size = [self.input_dim] # Here we save the size the previous layer, initialized with input_dim"
   ]
  },
  {
   "attachments": {},
   "cell_type": "markdown",
   "id": "25915302",
   "metadata": {},
   "source": [
    "#### Complete code for class"
   ]
  },
  {
   "cell_type": "code",
   "execution_count": 2,
   "id": "c95bc0da",
   "metadata": {},
   "outputs": [],
   "source": [
    "import torch.nn.functional as F\n",
    "class AETune(nn.Module):\n",
    "    def __init__(self, trial, input_dim, cfg):\n",
    "        super(AETune, self).__init__()\n",
    "        self.trial = trial # optuna trial object\n",
    "        self.cfg = cfg # configuration dict\n",
    "        self.input_dim = input_dim # number of features for input data\n",
    "\n",
    "\n",
    "        self.n_layers = self.trial.suggest_int('n_layers',\n",
    "                                               cfg['LAYERS_LOWER_LIMIT'],\n",
    "                                               cfg['LAYERS_UPPER_LIMIT'])\n",
    "        print(self.n_layers)\n",
    "        encoder_layers = [] # Here we save all the layers depending on layer size\n",
    "        prev_dim_size = [self.input_dim] # Here we save the size of the previous layer, initialized with input_dim\n",
    "\n",
    "        # ENCODER ------------------------------------------------------------\n",
    "        for i in range(self.n_layers):\n",
    "            prev_layer_size = prev_dim_size[-1] # equals the number of input features in the first iteration\n",
    "            # Next we want \n",
    "            # trial object to suggest the size of the next layer\n",
    "            # therefore we need to set a range for the object to choose from\n",
    "            # We decide to make the next layer size dependend on the previous layer size\n",
    "            # so we decide to set the upper limit to 1/4 of the previous and 1/128 for the lower limit.\n",
    "            # These limits were set arbitrarily\n",
    "            # Lastly, we ensure that the layer size never gets below 4 (also arbitrarily set)\n",
    "            lower = max(int(prev_layer_size / 128), 4)\n",
    "            upper = max(int(prev_layer_size) / 4, 4)\n",
    "\n",
    "            next_layer_size = self.trial.suggest_int(\n",
    "                f'n_units_l{i}', lower, upper)\n",
    "            # We save the layers to a list to later put them together in one Sequential layer after the for loop\n",
    "            encoder_layers.append(nn.Linear(prev_layer_size, next_layer_size))\n",
    "            prev_dim_size.append(next_layer_size) # as reference for the size of the next layer\n",
    "\n",
    "            # we don't want to have a ReLU or dropout layer right before the latent space\n",
    "            if not i + 1 == self.n_layers:\n",
    "                encoder_layers.append(nn.ReLU())\n",
    "                p = self.trial.suggest_float(f'dropout_l{i}',\n",
    "                                             cfg['DROPOUT_LOWER_LIMIT'],\n",
    "                                             cfg['DROPOUT_UPPER_LIMIT'])\n",
    "                encoder_layers.append(nn.Dropout(p))\n",
    "        self.encoder = nn.Sequential(*encoder_layers)\n",
    "\n",
    "         # DECODER -------------------------------------------------------------\n",
    "        decoder_layers = [] # Again, we save all the layers to put them into the Sequential object later\n",
    "        # We iterate the encoder layers in reverse order\n",
    "        for layer in encoder_layers[::-1]:\n",
    "            if not isinstance(layer, nn.Linear):\n",
    "                # We need to skip this because in the next lines we assume that each layer\n",
    "                # has the attributes `out_features` and in_features`\n",
    "                # To have the same structure as the decoder we add the activation and dropout after adding the Linear layer.\n",
    "                continue  # skipping dropout and activation layers\n",
    "            if layer.in_features == self.input_dim:  # sigmoid for the last layer\n",
    "                decoder_layers.append(\n",
    "                    nn.Linear(layer.out_features, layer.in_features))\n",
    "                decoder_layers.append(nn.Sigmoid())\n",
    "                continue\n",
    "            # because of the x-shaped architecture of the autoencoder\n",
    "            # the number of in-features for the encoder, are the number of out-features for the decoder and vice versa\n",
    "            decoder_layers.append(\n",
    "                nn.Linear(layer.out_features, layer.in_features))\n",
    "            decoder_layers.append(nn.ReLU())\n",
    "            p = self.trial.suggest_float(f'dropout_l{i}',\n",
    "                                         cfg['DROPOUT_LOWER_LIMIT'],\n",
    "                                         cfg['DROPOUT_UPPER_LIMIT'])\n",
    "\n",
    "            decoder_layers.append(nn.Dropout(p))\n",
    "        self.decoder = nn.Sequential(*decoder_layers)\n",
    "\n",
    "    def encode(self, x):\n",
    "        latent = F.relu(x)\n",
    "        return self.encoder(latent)\n",
    "\n",
    "    def decode(self, x):\n",
    "        return self.decoder(x)\n",
    "\n",
    "    def forward(self, x):\n",
    "        latent = self.encode(x)\n",
    "        recon = self.decode(latent)\n",
    "        # return None to be able to use the same training loop as for the VAE\n",
    "        return recon, latent, None\n"
   ]
  },
  {
   "attachments": {},
   "cell_type": "markdown",
   "id": "7d9bf90a",
   "metadata": {},
   "source": [
    "Before we get to the objective function, I want to extend the autoencoder class to a variational autoencoder. The code for this looks similar to the autoencoder above, so we won't cover all the details, only the differences between them.\n",
    "\n",
    "For the variational autoencoder, we implement the standard case of fitting the parameters of the normal distribution, mean, and variance (we use log variance). So the last layer of the encoder architecture will be the logvar and mean layer."
   ]
  },
  {
   "cell_type": "code",
   "execution_count": 3,
   "id": "3592d04d",
   "metadata": {},
   "outputs": [],
   "source": [
    "import torch\n",
    "import torch.nn as nn\n",
    "\n",
    "class VAETune(nn.Module):\n",
    "    def __init__(self, trial, input_dim, cfg):\n",
    "        super(VAETune, self).__init__()\n",
    "        self.trial = trial # optuna trial object\n",
    "        self.cfg = cfg # configuration dict\n",
    "        self.input_dim = input_dim # number of features for input data\n",
    "\n",
    "\n",
    "        self.n_layers = self.trial.suggest_int('n_layers',\n",
    "                                               cfg['LAYERS_LOWER_LIMIT'],\n",
    "                                               cfg['LAYERS_UPPER_LIMIT'])\n",
    "        print(self.n_layers)\n",
    "        encoder_layers = [] # Here we save all the layers depending on layer size\n",
    "        prev_dim_size = [self.input_dim] # Here we save the size of the previous layer, initialized with input_dim\n",
    "\n",
    "        # ENCODER ------------------------------------------------------------\n",
    "        for i in range(self.n_layers):\n",
    "            prev_layer_size = prev_dim_size[-1] # equals the number of input features in the first iteration\n",
    "            # Next we want the trial object to suggest the size of the next layer\n",
    "            # Therefore we need to set a range for the object to choose from\n",
    "            # We decide to make the next layer size dependent on the previous layer size\n",
    "            # so we decide to set the upper limit to 1/4 of the previous and 1/128 for the lower limit.\n",
    "            # These limits were set arbitrarily\n",
    "            # Lastly, we ensure that the layer size never gets below 4 (also arbitrarily set)\n",
    "            lower = max(int(prev_layer_size / 128), 4)\n",
    "            upper = max(int(prev_layer_size) / 4, 4)\n",
    "\n",
    "            next_layer_size = self.trial.suggest_int(\n",
    "                f'n_units_l{i}', lower, upper)\n",
    "            # We save the layers to a list to later put them together in one Sequential layer after the for loop\n",
    "            encoder_layers.append(nn.Linear(prev_layer_size, next_layer_size))\n",
    "            prev_dim_size.append(next_layer_size) # as reference for the size of the next layer\n",
    "\n",
    "            # we don't want to have a ReLU or dropout layer right before the latent space\n",
    "            if not i + 1 == self.n_layers:\n",
    "                encoder_layers.append(nn.ReLU())\n",
    "                p = self.trial.suggest_float(f'dropout_l{i}',\n",
    "                                             cfg['DROPOUT_LOWER_LIMIT'],\n",
    "                                             cfg['DROPOUT_UPPER_LIMIT'])\n",
    "                encoder_layers.append(nn.Dropout(p))\n",
    "        self.encoder = nn.Sequential(*encoder_layers)        # split the last layer into vectors (mean, and log variance for VAE)\n",
    "        self.mu = encoder_layers[-1]\n",
    "        # Remove from the list to not use twice in self.encode\n",
    "        self.logvar = encoder_layers.pop()\n",
    "        encoder_layers.append(nn.ReLU())\n",
    "        self.encoder = nn.Sequential(*encoder_layers)\n",
    "        # For decoder append the last layer again to reverse construct encoder\n",
    "        encoder_layers.append(self.mu)\n",
    "\n",
    "         # DECODER -------------------------------------------------------------\n",
    "        decoder_layers = [] # Again, we save all the layers to put them into the Sequential object later\n",
    "        # We iterate the encoder layers in reverse order\n",
    "        for layer in encoder_layers[::-1]:\n",
    "            if not isinstance(layer, nn.Linear):\n",
    "                # We need to skip this because in the next lines we assume that each layer\n",
    "                # has the attributes `out_features` and in_features`\n",
    "                # To have the same structure as the decoder we add the activation and dropout after adding the Linear layer.\n",
    "                continue  # skipping dropout and activation layers\n",
    "            if layer.in_features == self.input_dim:  # sigmoid for the last layer\n",
    "                decoder_layers.append(\n",
    "                    nn.Linear(layer.out_features, layer.in_features))\n",
    "                decoder_layers.append(nn.Sigmoid())\n",
    "                continue\n",
    "            # because of the x-shaped architecture of the autoencoder\n",
    "            # the number of in-features for the encoder, are the number of out-features for the decoder and vice versa\n",
    "            decoder_layers.append(\n",
    "                nn.Linear(layer.out_features, layer.in_features))\n",
    "            decoder_layers.append(nn.ReLU())\n",
    "            p = self.trial.suggest_float(f'dropout_l{i}',\n",
    "                                         cfg['DROPOUT_LOWER_LIMIT'],\n",
    "                                         cfg['DROPOUT_UPPER_LIMIT'])\n",
    "\n",
    "            decoder_layers.append(nn.Dropout(p))\n",
    "        self.decoder = nn.Sequential(*decoder_layers)\n",
    "        self.apply(self._init_weights)\n",
    "\n",
    "\n",
    "\n",
    "    def _init_weights(self, m):\n",
    "        if isinstance(m, nn.Linear):\n",
    "            nn.init.xavier_uniform_(m.weight)\n",
    "            m.bias.data.fill_(0.01)\n",
    "\n",
    "    def encode(self, x):\n",
    "        latent = self.encoder(x)\n",
    "        return self.mu(latent), self.logvar(latent)\n",
    "\n",
    "    def decode(self, z):\n",
    "        return self.decoder(z)\n",
    "\n",
    "        \n",
    "    def reparameterize(self, mu, logvar):\n",
    "        std = torch.exp(0.5 * logvar)\n",
    "        eps = torch.randn_like(std)\n",
    "        return mu + eps * std\n",
    "\n",
    "    def forward(self, x):\n",
    "        mu, logvar = self.encode(x.view(-1, self.input_dim))\n",
    "        z = self.reparameterize(mu, logvar)\n",
    "        return self.decode(z), mu, logvar\n",
    "\n"
   ]
  },
  {
   "attachments": {},
   "cell_type": "markdown",
   "id": "06635347",
   "metadata": {},
   "source": [
    "### Objective function\n",
    "Now that we have set the structure, we need to define the objective function and an Optuna study that will run all trials and finds the best trial. First, we create the study and tell Optuna if the loss should be minimized or maximized:\n",
    "```  # standard optuna procedure\n",
    "    study = optuna.create_study(direction=\"minimize\")\n",
    "```\n",
    "\n",
    "Next, we run the optimization step and lastly select the best trial:\n",
    "\n",
    "```python\n",
    "study.optimize(\n",
    "        lambda trial: objective(cfg, trial, dataloader),\n",
    "                                n_trials=30\n",
    "        )\n",
    "# get best trial\n",
    "best_trial = study.best_trial\n",
    "\n",
    "```\n",
    "We can pass the best_trial to the Autoencoder classes as defined above. But first, you may have noticed that we use a lambda expression to call the objective function. The objective function is basically a training loop wrapper with the trial object suggesting hyperparameters.\n"
   ]
  },
  {
   "attachments": {},
   "cell_type": "markdown",
   "id": "d1046e27",
   "metadata": {},
   "source": [
    "\n",
    "\n"
   ]
  },
  {
   "cell_type": "code",
   "execution_count": 4,
   "id": "94fd9dc1",
   "metadata": {},
   "outputs": [],
   "source": [
    "import optuna\n",
    "import torch.optim as optim\n",
    "import torch.nn.functional as F\n",
    "\n",
    "def objective(cfg, trial, dataloader, input_dim, model_name):\n",
    "    # Define the range of hyperparameters to search for\n",
    "    optimizer_name = trial.suggest_categorical(\"optimizer\", [\"Adam\", \"RMSprop\", \"SGD\"])\n",
    "    lr = trial.suggest_float(\"lr\", cfg[\"LR_LOWER_LIMIT\"], cfg[\"LR_UPPER_LIMIT\"], log=False)\n",
    "    weight_decay = trial.suggest_float(\"weight_decay\", 0.0, 0.1)\n",
    "    \n",
    "    # Instantiate the model\n",
    "    model = AETune(trial, input_dim, cfg) if model_name =='AE' else VAETune(trial, input_dim, cfg)\n",
    "    \n",
    "    # Get the optimizer object based on the selected optimizer name\n",
    "    optimizer = getattr(optim, optimizer_name)(model.parameters(), lr=lr, weight_decay=weight_decay)\n",
    "    \n",
    "    # Standard PyTorch training loop\n",
    "    for epoch in range(cfg[\"EPOCHS\"]):\n",
    "        total_loss = 0.0\n",
    "        \n",
    "        for batch, _ in dataloader:\n",
    "            # Forward pass\n",
    "            reconstr_x, mu, logvar = model(batch)\n",
    "            \n",
    "            # Compute the batch loss\n",
    "            kl_loss = (-0.5 * torch.sum(1 + logvar - mu.pow(2) - logvar.exp())) if model_name == 'VAE' else torch.tensor(0)\n",
    "            batch_loss = F.binary_cross_entropy(reconstr_x, batch.view(-1, input_dim), reduction='sum') + kl_loss\n",
    "            \n",
    "            # Perform backpropagation and optimization step\n",
    "            optimizer.zero_grad()\n",
    "            batch_loss.backward()\n",
    "            \n",
    "            # Apply gradient clipping\n",
    "            torch.nn.utils.clip_grad_norm_(model.parameters(), max_norm=1)\n",
    "            \n",
    "            optimizer.step()\n",
    "            \n",
    "            # Accumulate the batch loss\n",
    "            total_loss += batch_loss.item()\n",
    "        \n",
    "        # Report the average loss for the epoch\n",
    "        trial.report(total_loss, epoch)\n",
    "        \n",
    "        # Handle pruning based on the intermediate value\n",
    "        if trial.should_prune():\n",
    "            raise optuna.exceptions.TrialPruned()\n",
    "    \n",
    "    return total_loss\n"
   ]
  },
  {
   "attachments": {},
   "cell_type": "markdown",
   "id": "c8bef924",
   "metadata": {},
   "source": [
    "## Short practical example\n",
    "With that, you hopefully have a concept on how to tune the architecture of your autoencoder model. Lastly, I'll share a simple example. We will do the following:\n",
    "- Create a fake dataset\n",
    "- Tune the model architecture and other hyperparameters\n",
    "- Visualize the result"
   ]
  },
  {
   "attachments": {},
   "cell_type": "markdown",
   "id": "25a19901",
   "metadata": {},
   "source": [
    "Firstly, we define a function to generate a fake dataset. We use the function `make_blobs` for this. The reason for this is that we want to show that our autoencoder works for dimension reduction while keeping the essence of the data.\n",
    "In plain English: we want to see the blobs, that we create also in the latent space."
   ]
  },
  {
   "cell_type": "code",
   "execution_count": 5,
   "id": "98892ae4",
   "metadata": {},
   "outputs": [],
   "source": [
    "from torch.utils.data import DataLoader, TensorDataset, random_split\n",
    "# import make_blobs for sklearn\n",
    "from sklearn.datasets import make_blobs\n",
    "import torch\n",
    "def create_fake_data(input_dim, n_samples):\n",
    "    \"\"\" creates a fake dataset with scikit learn make_blobs and puts it into a torch dataloader\n",
    "    ARGS:\n",
    "        input_dim (int): number of features\n",
    "        n_samples (int): number of samples\n",
    "    RETURNS:\n",
    "        validloader (torch.DataLoader)\n",
    "        testloader (torch.DataLoader)\n",
    "        trainloader (torch.DataLoader)\n",
    "    \"\"\"\n",
    "\n",
    "    X, y = make_blobs(n_samples=n_samples,\n",
    "                        n_features=input_dim,\n",
    "                        centers=5,\n",
    "                        cluster_std=5,\n",
    "                        random_state=42)\n",
    "    # min max scaling\n",
    "    X = (X - X.min(axis=0)) / (X.max(axis=0) - X.min(axis=0))\n",
    "    # X = torch.tensor(X, dtype=torch.float32)\n",
    "    # split in train, test and valid set\n",
    "    train_ratio = 0.6\n",
    "    test_ratio = 0.2\n",
    "    valid_ratio = 0.2\n",
    "    dataset = TensorDataset(torch.tensor(X, dtype=torch.float32), torch.tensor(y))\n",
    "    trainset, testset, validset = random_split(dataset,[int(n_samples * train_ratio), int(n_samples*test_ratio), int(n_samples*valid_ratio)])\n",
    "    trainloader = DataLoader(trainset, batch_size=32)\n",
    "    testloader = DataLoader(testset, batch_size=32)\n",
    "    validloader = DataLoader(validset, batch_size=32)\n",
    "    return validloader, testloader, trainloader"
   ]
  },
  {
   "attachments": {},
   "cell_type": "markdown",
   "id": "58cf72e6",
   "metadata": {},
   "source": [
    "Next, we create the data and use the validation dataloader to tune the model architecture with Optuna."
   ]
  },
  {
   "cell_type": "code",
   "execution_count": 6,
   "id": "ba07a33b",
   "metadata": {},
   "outputs": [
    {
     "name": "stderr",
     "output_type": "stream",
     "text": [
      "[I 2024-02-11 17:46:03,094] A new study created in memory with name: no-name-b331cf03-cded-4b42-8e44-993850cc957d\n"
     ]
    }
   ],
   "source": [
    "input_dim = 500\n",
    "n_samples = 10000\n",
    "model_name = 'VAE'\n",
    "validloader, testloader, trainloader = create_fake_data(input_dim, n_samples)\n",
    "study = optuna.create_study(direction=\"minimize\")"
   ]
  },
  {
   "cell_type": "code",
   "execution_count": 8,
   "id": "40db279b",
   "metadata": {},
   "outputs": [
    {
     "name": "stdout",
     "output_type": "stream",
     "text": [
      "3\n"
     ]
    },
    {
     "name": "stderr",
     "output_type": "stream",
     "text": [
      "[I 2024-02-11 17:47:14,540] Trial 2 finished with value: 690963.9174804688 and parameters: {'optimizer': 'SGD', 'lr': 0.00722480863279754, 'weight_decay': 0.07546708861964482, 'n_layers': 3, 'n_units_l0': 67, 'dropout_l0': 0.08495283843141199, 'n_units_l1': 13, 'dropout_l1': 0.12559606033899257, 'n_units_l2': 4, 'dropout_l2': 0.08582851410532441}. Best is trial 2 with value: 690963.9174804688.\n"
     ]
    },
    {
     "name": "stdout",
     "output_type": "stream",
     "text": [
      "2\n"
     ]
    },
    {
     "name": "stderr",
     "output_type": "stream",
     "text": [
      "[I 2024-02-11 17:47:28,670] Trial 3 finished with value: 695360.3359375 and parameters: {'optimizer': 'Adam', 'lr': 0.027721485574840353, 'weight_decay': 0.09063525981226697, 'n_layers': 2, 'n_units_l0': 110, 'dropout_l0': 0.15996269532210483, 'n_units_l1': 23, 'dropout_l1': 0.05257524130691304}. Best is trial 2 with value: 690963.9174804688.\n"
     ]
    },
    {
     "name": "stdout",
     "output_type": "stream",
     "text": [
      "4\n"
     ]
    },
    {
     "name": "stderr",
     "output_type": "stream",
     "text": [
      "[I 2024-02-11 17:47:49,509] Trial 4 finished with value: 691142.9692382812 and parameters: {'optimizer': 'Adam', 'lr': 0.03060353959221611, 'weight_decay': 0.08025210449632154, 'n_layers': 4, 'n_units_l0': 25, 'dropout_l0': 0.13432681845545158, 'n_units_l1': 5, 'dropout_l1': 0.1558427195466663, 'n_units_l2': 4, 'dropout_l2': 0.19654716076092155, 'n_units_l3': 4, 'dropout_l3': 0.0674257562676509}. Best is trial 2 with value: 690963.9174804688.\n"
     ]
    },
    {
     "name": "stdout",
     "output_type": "stream",
     "text": [
      "2\n"
     ]
    },
    {
     "name": "stderr",
     "output_type": "stream",
     "text": [
      "[I 2024-02-11 17:48:02,762] Trial 5 finished with value: 691601.4682617188 and parameters: {'optimizer': 'Adam', 'lr': 0.01085377192784336, 'weight_decay': 0.09497685828603661, 'n_layers': 2, 'n_units_l0': 96, 'dropout_l0': 0.09767561436135143, 'n_units_l1': 23, 'dropout_l1': 0.12942683895958662}. Best is trial 2 with value: 690963.9174804688.\n"
     ]
    },
    {
     "name": "stdout",
     "output_type": "stream",
     "text": [
      "4\n"
     ]
    },
    {
     "name": "stderr",
     "output_type": "stream",
     "text": [
      "[I 2024-02-11 17:48:29,490] Trial 6 finished with value: 691004.92578125 and parameters: {'optimizer': 'RMSprop', 'lr': 0.003686127520068045, 'weight_decay': 0.04288351650223609, 'n_layers': 4, 'n_units_l0': 29, 'dropout_l0': 0.050362747872032744, 'n_units_l1': 7, 'dropout_l1': 0.18464273848557766, 'n_units_l2': 4, 'dropout_l2': 0.054319961701940804, 'n_units_l3': 4, 'dropout_l3': 0.18821760064451853}. Best is trial 2 with value: 690963.9174804688.\n"
     ]
    },
    {
     "name": "stdout",
     "output_type": "stream",
     "text": [
      "3\n"
     ]
    },
    {
     "name": "stderr",
     "output_type": "stream",
     "text": [
      "[I 2024-02-11 17:49:06,137] Trial 7 finished with value: 690982.7919921875 and parameters: {'optimizer': 'Adam', 'lr': 0.0054052037246143615, 'weight_decay': 0.015535709334174875, 'n_layers': 3, 'n_units_l0': 26, 'dropout_l0': 0.16821834399233618, 'n_units_l1': 6, 'dropout_l1': 0.08087715580296755, 'n_units_l2': 4, 'dropout_l2': 0.09591274897038149}. Best is trial 2 with value: 690963.9174804688.\n"
     ]
    },
    {
     "name": "stdout",
     "output_type": "stream",
     "text": [
      "2\n"
     ]
    },
    {
     "name": "stderr",
     "output_type": "stream",
     "text": [
      "[I 2024-02-11 17:49:06,529] Trial 8 pruned. \n"
     ]
    },
    {
     "name": "stdout",
     "output_type": "stream",
     "text": [
      "6\n"
     ]
    },
    {
     "name": "stderr",
     "output_type": "stream",
     "text": [
      "[I 2024-02-11 17:49:14,447] Trial 9 pruned. \n"
     ]
    },
    {
     "name": "stdout",
     "output_type": "stream",
     "text": [
      "5\n"
     ]
    },
    {
     "name": "stderr",
     "output_type": "stream",
     "text": [
      "[I 2024-02-11 17:49:14,759] Trial 10 pruned. \n"
     ]
    },
    {
     "name": "stdout",
     "output_type": "stream",
     "text": [
      "3\n"
     ]
    },
    {
     "name": "stderr",
     "output_type": "stream",
     "text": [
      "[I 2024-02-11 17:49:15,165] Trial 11 pruned. \n"
     ]
    }
   ],
   "source": [
    "study.optimize(lambda trial: objective(cfg, trial, validloader, input_dim, model_name), n_trials=10)"
   ]
  },
  {
   "attachments": {},
   "cell_type": "markdown",
   "id": "c9e04a86",
   "metadata": {},
   "source": [
    "### Best Model\n",
    "Let's take a look at the found architecture"
   ]
  },
  {
   "cell_type": "code",
   "execution_count": 9,
   "id": "d6c953ff",
   "metadata": {},
   "outputs": [
    {
     "name": "stdout",
     "output_type": "stream",
     "text": [
      "3\n",
      "VAETune(\n",
      "  (encoder): Sequential(\n",
      "    (0): Linear(in_features=500, out_features=67, bias=True)\n",
      "    (1): ReLU()\n",
      "    (2): Dropout(p=0.08495283843141199, inplace=False)\n",
      "    (3): Linear(in_features=67, out_features=13, bias=True)\n",
      "    (4): ReLU()\n",
      "    (5): Dropout(p=0.12559606033899257, inplace=False)\n",
      "    (6): ReLU()\n",
      "  )\n",
      "  (mu): Linear(in_features=13, out_features=4, bias=True)\n",
      "  (logvar): Linear(in_features=13, out_features=4, bias=True)\n",
      "  (decoder): Sequential(\n",
      "    (0): Linear(in_features=4, out_features=13, bias=True)\n",
      "    (1): ReLU()\n",
      "    (2): Dropout(p=0.08582851410532441, inplace=False)\n",
      "    (3): Linear(in_features=13, out_features=67, bias=True)\n",
      "    (4): ReLU()\n",
      "    (5): Dropout(p=0.08582851410532441, inplace=False)\n",
      "    (6): Linear(in_features=67, out_features=500, bias=True)\n",
      "    (7): Sigmoid()\n",
      "  )\n",
      ")\n"
     ]
    }
   ],
   "source": [
    "best_trial = study.best_trial\n",
    "best_model = VAETune(best_trial, input_dim, cfg) if model_name == 'VAE' else AETune(best_trial, input_dim, cfg)\n",
    "\n",
    "print(best_model)\n"
   ]
  },
  {
   "cell_type": "code",
   "execution_count": null,
   "id": "b1133751",
   "metadata": {},
   "outputs": [],
   "source": [
    "import torch\n",
    "import torch.nn as nn\n",
    "import torch.optim as optim\n",
    "import torch.nn.functional as F\n",
    "\n",
    "\n",
    "# Train model weights with the best hyperparameters and train data\n",
    "optimizer = getattr(optim, best_trial.params['optimizer'])(best_model.parameters(), lr=best_trial.params['lr'], weight_decay=0.05)\n",
    "\n",
    "for epoch in range(500):\n",
    "    best_model.train()\n",
    "    loss = 0\n",
    "    batchcount = 0\n",
    "\n",
    "    for batch, _ in trainloader:\n",
    "        batchcount += 1\n",
    "        \n",
    "        optimizer.zero_grad()\n",
    "        recon, mu, logvar = best_model(batch)\n",
    "        beta = 0.05\n",
    "        kl_loss = beta * (-0.5 * torch.sum(1 + logvar - mu.pow(2) - logvar.exp())) if model_name == 'VAE' else torch.tensor(0)\n",
    "        batch_loss = F.binary_cross_entropy(recon, batch.view(-1,input_dim), reduction='sum') + kl_loss\n",
    "        batch_loss.backward()\n",
    "        torch.nn.utils.clip_grad_norm_(best_model.parameters(), 1)\n",
    "        optimizer.step()\n",
    "        loss += batch_loss.detach()\n",
    "    if epoch % 20 == 0:\n",
    "        print(f'loss: {loss}')"
   ]
  },
  {
   "attachments": {},
   "cell_type": "markdown",
   "id": "d6da10c9",
   "metadata": {},
   "source": [
    "### Visual proof\n",
    "Lastly, we want to check if the dimension reduction of the latent space is kept. Therefore we perform a PCA on the input data and the latent space. Since we used `make_blobs` to generate the data, we should see the clusters.\n",
    "If the dimension reduction contains the information we should see similar clusters, when we perform PCA on the latent dim"
   ]
  },
  {
   "cell_type": "code",
   "execution_count": 11,
   "id": "b3947b24",
   "metadata": {},
   "outputs": [
    {
     "name": "stdout",
     "output_type": "stream",
     "text": [
      "(2000, 2)\n"
     ]
    },
    {
     "data": {
      "image/png": "[encoded data removed]",
      "text/plain": [
       "<Figure size 640x480 with 1 Axes>"
      ]
     },
     "metadata": {},
     "output_type": "display_data"
    }
   ],
   "source": [
    "from sklearn.decomposition import PCA\n",
    "import matplotlib.pyplot as plt\n",
    "pca = PCA(n_components=2)\n",
    "pca.fit_transform(testloader.dataset[:][0].detach().numpy())\n",
    "labels = testloader.dataset.dataset[:][1][testloader.dataset.indices].detach().numpy()\n",
    "pca_data = pca.transform(testloader.dataset[:][0].detach().numpy())\n",
    "print(pca_data.shape)\n",
    "\n",
    "# visualize pca\n",
    "fig, ax = plt.subplots()\n",
    "\n",
    "ax.scatter(pca_data[:, 0], pca_data[:, 1], c=labels)\n",
    "ax.set_ylabel('PC 2')\n",
    "ax.set_xlabel('PC 1')\n",
    "\n",
    "# save fig\n",
    "plt.show()"
   ]
  },
  {
   "cell_type": "code",
   "execution_count": 12,
   "id": "db409899",
   "metadata": {},
   "outputs": [
    {
     "data": {
      "image/png": "[encoded data removed]",
      "text/plain": [
       "<Figure size 640x480 with 1 Axes>"
      ]
     },
     "metadata": {},
     "output_type": "display_data"
    }
   ],
   "source": [
    "# test model on test data\n",
    "latent_space = best_model.encode(testloader.dataset[:][0])\n",
    "import matplotlib.pyplot as plt\n",
    "from sklearn.decomposition import PCA\n",
    "# pca on latent space\n",
    "pca = PCA(n_components=2)\n",
    "\n",
    "pca.fit(latent_space[:][0].detach().numpy())\n",
    "pca_data = pca.transform(latent_space[:][0].detach().numpy())\n",
    "# visualize pca\n",
    "fig, ax = plt.subplots()\n",
    "\n",
    "ax.scatter(pca_data[:, 0], pca_data[:, 1], c=labels)\n",
    "ax.set_ylabel('PC 2')\n",
    "ax.set_xlabel('PC 1')\n",
    "# show fig\n",
    "plt.show()"
   ]
  }
 ],
 "metadata": {
  "kernelspec": {
   "display_name": "Python 3 (ipykernel)",
   "language": "python",
   "name": "python3"
  },
  "language_info": {
   "codemirror_mode": {
    "name": "ipython",
    "version": 3
   },
   "file_extension": ".py",
   "mimetype": "text/x-python",
   "name": "python",
   "nbconvert_exporter": "python",
   "pygments_lexer": "ipython3",
   "version": "3.9.13"
  }
 },
 "nbformat": 4,
 "nbformat_minor": 5
}
