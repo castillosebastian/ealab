{
 "cells": [
  {
   "cell_type": "markdown",
   "metadata": {},
   "source": [
    "- Atributos Importantes: los algoritmos que tienen búsqueda aleatoria pueden ser angañosos al momento de identificar atributos importantes? Ver: https://towardsdatascience.com/model-design-and-selection-with-scikit-learn-18a29041d02a. "
   ]
  },
  {
   "cell_type": "code",
   "execution_count": null,
   "metadata": {},
   "outputs": [],
   "source": []
  }
 ],
 "metadata": {
  "language_info": {
   "name": "python"
  }
 },
 "nbformat": 4,
 "nbformat_minor": 2
}
