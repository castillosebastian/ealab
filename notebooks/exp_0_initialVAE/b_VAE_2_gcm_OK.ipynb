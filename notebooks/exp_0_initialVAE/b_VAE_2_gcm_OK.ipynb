{
  "cells": [
    {
      "cell_type": "code",
      "execution_count": 1,
      "metadata": {},
      "outputs": [
        {
          "data": {
            "text/plain": [
              "polars.config.Config"
            ]
          },
          "execution_count": 1,
          "metadata": {},
          "output_type": "execute_result"
        }
      ],
      "source": [
        "import os\n",
        "import json\n",
        "import numpy as np\n",
        "import pandas as pd\n",
        "import polars as pl\n",
        "import matplotlib.pyplot as plt\n",
        "import seaborn as sns\n",
        "import torch\n",
        "import torch.nn as nn\n",
        "from torch import optim\n",
        "from torch.optim import Adam\n",
        "from torch.utils.data import DataLoader\n",
        "import torchvision.transforms as transforms\n",
        "from torchvision.utils import save_image, make_grid\n",
        "from mpl_toolkits.axes_grid1 import ImageGrid\n",
        "from sklearn.preprocessing import MultiLabelBinarizer, StandardScaler\n",
        "from sklearn.neural_network import MLPClassifier\n",
        "from sklearn.pipeline import Pipeline\n",
        "from sklearn.metrics import classification_report, f1_score, multilabel_confusion_matrix\n",
        "from scipy.io import arff\n",
        "\n",
        "# Set the device for PyTorch\n",
        "device = torch.device(\"cuda\" if torch.cuda.is_available() else \"cpu\")\n",
        "\n",
        "# Configure Polars\n",
        "pl.Config.set_tbl_rows(-1)\n"
      ]
    },
    {
      "cell_type": "markdown",
      "metadata": {},
      "source": [
        "# VAE implementation"
      ]
    },
    {
      "cell_type": "markdown",
      "metadata": {},
      "source": [
        "**Source**:\n",
        "\n",
        "Principal:    \n",
        "- https://github.com/nhsx/SynthVAE\n",
        "  \n",
        "\n",
        "Interesting:    \n",
        "\n",
        "- https://towardsdatascience.com/variational-autoencoder-demystified-with-pytorch-implementation-3a06bee395ed\n",
        "- https://github.com/clementchadebec/benchmark_VAE\n",
        "- https://github.com/Victarry/Image-Generation-models/blob/main/src/models/vae.py    \n",
        "- https://github.com/yakhyo/pytorch-tutorials/blob/23d4086486482eb13fae05a87ef93a1e0df8b0ff/tutorials/03-intermediate/05-var-auto-encode/main.py\n",
        "\n",
        "Others:\n",
        "\n",
        "- https://github.com/kleinzcy/Variational-AutoEncoder/blob/master/VAE.ipynb\n",
        "- https://github.com/siddharth17196/Variational-Autoencoders/blob/master/autoencoder.ipynb\n"
      ]
    },
    {
      "cell_type": "code",
      "execution_count": 31,
      "metadata": {},
      "outputs": [],
      "source": [
        "# read from directory\n",
        "tra, trameta = arff.loadarff('../../data/GCM_Training.arff')\n",
        "tst, tstmeta = arff.loadarff('../../data/GCM_Test.arff')"
      ]
    },
    {
      "cell_type": "code",
      "execution_count": 32,
      "metadata": {},
      "outputs": [],
      "source": [
        "train = pl.from_numpy(tra).to_numpy()\n",
        "test = pl.from_numpy(tst).to_numpy()"
      ]
    },
    {
      "cell_type": "code",
      "execution_count": 33,
      "metadata": {},
      "outputs": [
        {
          "data": {
            "text/plain": [
              "array([-73.0, -69.0, -48.0, ..., -967.0, -120.0, b'Breast'], dtype=object)"
            ]
          },
          "execution_count": 33,
          "metadata": {},
          "output_type": "execute_result"
        }
      ],
      "source": [
        "train[0]"
      ]
    },
    {
      "cell_type": "code",
      "execution_count": 34,
      "metadata": {},
      "outputs": [
        {
          "data": {
            "text/plain": [
              "(144, 16064)"
            ]
          },
          "execution_count": 34,
          "metadata": {},
          "output_type": "execute_result"
        }
      ],
      "source": [
        "train.shape"
      ]
    },
    {
      "cell_type": "code",
      "execution_count": 5,
      "metadata": {},
      "outputs": [
        {
          "data": {
            "text/plain": [
              "{b'Uterus__Adeno': 0,\n",
              " b'CNS': 1,\n",
              " b'Melanoma': 2,\n",
              " b'Lymphoma': 3,\n",
              " b'Prostate': 4,\n",
              " b'Bladder': 5,\n",
              " b'Breast': 6,\n",
              " b'Lung': 7,\n",
              " b'Colorectal': 8,\n",
              " b'Pancreas': 9,\n",
              " b'Mesothelioma': 10,\n",
              " b'Ovary': 11,\n",
              " b'Renal': 12,\n",
              " b'Leukemia': 13}"
            ]
          },
          "execution_count": 5,
          "metadata": {},
          "output_type": "execute_result"
        }
      ],
      "source": [
        "categories = [binary_str.decode('utf-8') for binary_str in set(train[:,-1])]\n",
        "# Create a mapping from category to integer\n",
        "target_mapping = {category.encode(): index for index, category in enumerate(categories)}\n",
        "target_mapping"
      ]
    },
    {
      "cell_type": "code",
      "execution_count": 6,
      "metadata": {},
      "outputs": [],
      "source": [
        "# Map binary targets to numerical values\n",
        "numerical_targets_train = np.array([target_mapping.get(x[-1], x) for x in train])\n",
        "numerical_targets_test = np.array([target_mapping.get(x[-1], x) for x in test])\n",
        "train[:, -1] = numerical_targets_train\n",
        "test[:, -1] = numerical_targets_test"
      ]
    },
    {
      "cell_type": "code",
      "execution_count": 7,
      "metadata": {},
      "outputs": [
        {
          "data": {
            "text/plain": [
              "(array([-73.0, -69.0, -48.0, ..., -41.0, -967.0, -120.0], dtype=object),\n",
              " array([-44.0, -254.0, -166.0, ..., -235.0, -826.0, -262.0], dtype=object))"
            ]
          },
          "execution_count": 7,
          "metadata": {},
          "output_type": "execute_result"
        }
      ],
      "source": [
        "train = train[:,:-1]\n",
        "test = test[:,:-1]\n",
        "train[0], test[0]\n"
      ]
    },
    {
      "cell_type": "code",
      "execution_count": 8,
      "metadata": {},
      "outputs": [],
      "source": [
        "# Convert the array to float32\n",
        "train = train.astype(np.float32)\n",
        "test = test.astype(np.float32)\n",
        "\n",
        "# Convert to a PyTorch tensor\n",
        "train = torch.from_numpy(train)\n",
        "test =  torch.from_numpy(test)"
      ]
    },
    {
      "cell_type": "code",
      "execution_count": 9,
      "metadata": {},
      "outputs": [],
      "source": [
        "def normalize_data(data):\n",
        "    min_val = torch.min(data)\n",
        "    max_val = torch.max(data)\n",
        "    normalized_data = (data - min_val) / (max_val - min_val)\n",
        "    return normalized_data"
      ]
    },
    {
      "cell_type": "code",
      "execution_count": 10,
      "metadata": {},
      "outputs": [],
      "source": [
        "train_norm = normalize_data(train)\n",
        "test_norm = normalize_data(test)"
      ]
    },
    {
      "cell_type": "code",
      "execution_count": 11,
      "metadata": {},
      "outputs": [
        {
          "data": {
            "text/plain": [
              "torch.Size([144, 16063])"
            ]
          },
          "execution_count": 11,
          "metadata": {},
          "output_type": "execute_result"
        }
      ],
      "source": [
        "train_norm[0]\n",
        "train.shape"
      ]
    },
    {
      "cell_type": "code",
      "execution_count": 36,
      "metadata": {},
      "outputs": [
        {
          "data": {
            "text/plain": [
              "tensor([[0.4518, 0.4519, 0.4523,  ..., 0.4524, 0.4370, 0.4511],\n",
              "        [0.4528, 0.4520, 0.4514,  ..., 0.4526, 0.4496, 0.4525],\n",
              "        [0.4531, 0.4523, 0.4512,  ..., 0.4525, 0.4490, 0.4536],\n",
              "        ...,\n",
              "        [0.4521, 0.4394, 0.4308,  ..., 0.4625, 0.3937, 0.4499],\n",
              "        [0.4490, 0.4491, 0.4509,  ..., 0.4550, 0.4017, 0.4528],\n",
              "        [0.4526, 0.4265, 0.4183,  ..., 0.4551, 0.4218, 0.4471]])"
            ]
          },
          "execution_count": 36,
          "metadata": {},
          "output_type": "execute_result"
        }
      ],
      "source": [
        "train_norm"
      ]
    },
    {
      "cell_type": "code",
      "execution_count": 12,
      "metadata": {},
      "outputs": [],
      "source": [
        "# create train and test dataloaders\n",
        "batch_size = 22\n",
        "train_loader = DataLoader(dataset=train_norm, batch_size=batch_size, shuffle=True)\n",
        "test_loader = DataLoader(dataset=test_norm, batch_size=batch_size, shuffle=False)\n"
      ]
    },
    {
      "cell_type": "markdown",
      "metadata": {},
      "source": [
        "# Creating Variational Autoencoders"
      ]
    },
    {
      "cell_type": "code",
      "execution_count": 13,
      "metadata": {
        "id": "Ezw2ckDTmSJw"
      },
      "outputs": [],
      "source": [
        "class VAE(nn.Module):\n",
        "\n",
        "    def __init__(self, input_dim=16063, hidden_dim=400, latent_dim=200, device=device):\n",
        "        super(VAE, self).__init__()\n",
        "\n",
        "        # encoder\n",
        "        self.encoder = nn.Sequential(\n",
        "            nn.Linear(input_dim, hidden_dim),\n",
        "            nn.LeakyReLU(0.2),\n",
        "            nn.Linear(hidden_dim, latent_dim),\n",
        "            nn.LeakyReLU(0.2)\n",
        "            )\n",
        "\n",
        "        # latent mean and variance\n",
        "        self.mean_layer = nn.Linear(latent_dim, 2)\n",
        "        self.logvar_layer = nn.Linear(latent_dim, 2)\n",
        "\n",
        "        # decoder\n",
        "        self.decoder = nn.Sequential(\n",
        "            nn.Linear(2, latent_dim),\n",
        "            nn.LeakyReLU(0.2),\n",
        "            nn.Linear(latent_dim, hidden_dim),\n",
        "            nn.LeakyReLU(0.2),\n",
        "            nn.Linear(hidden_dim, input_dim),\n",
        "            nn.Sigmoid()\n",
        "            )\n",
        "\n",
        "    def encode(self, x):\n",
        "        x = self.encoder(x)\n",
        "        mean, logvar = self.mean_layer(x), self.logvar_layer(x)\n",
        "        return mean, logvar\n",
        "\n",
        "    def reparameterization(self, mean, var):\n",
        "        epsilon = torch.randn_like(var).to(device)\n",
        "        z = mean + var*epsilon\n",
        "        return z\n",
        "\n",
        "    def decode(self, x):\n",
        "        return self.decoder(x)\n",
        "\n",
        "    def forward(self, x):\n",
        "        mean, logvar = self.encode(x)\n",
        "        z = self.reparameterization(mean, logvar)\n",
        "        x_hat = self.decode(z)\n",
        "        return x_hat, mean, log_var\n",
        "\n",
        "    def forward(self, x):\n",
        "        mean, log_var = self.encode(x)\n",
        "        z = self.reparameterization(mean, torch.exp(0.5 * log_var))\n",
        "        x_hat = self.decode(z)\n",
        "        return x_hat, mean, log_var"
      ]
    },
    {
      "cell_type": "code",
      "execution_count": 14,
      "metadata": {
        "id": "wOuxwnnVnbBJ"
      },
      "outputs": [],
      "source": [
        "model = VAE(input_dim=16063).to(device)\n",
        "optimizer = Adam(model.parameters(), lr=1e-3)"
      ]
    },
    {
      "cell_type": "code",
      "execution_count": 15,
      "metadata": {
        "id": "RlwQdnotney0"
      },
      "outputs": [],
      "source": [
        "def loss_function(x, x_hat, mean, log_var):\n",
        "    reproduction_loss = nn.functional.binary_cross_entropy(x_hat, x, reduction='sum')\n",
        "    KLD = - 0.5 * torch.sum(1+ log_var - mean.pow(2) - log_var.exp())\n",
        "    return reproduction_loss + KLD"
      ]
    },
    {
      "cell_type": "code",
      "execution_count": 16,
      "metadata": {},
      "outputs": [],
      "source": [
        "def trainVAE(model, optimizer, epochs, device, x_dim=16063):\n",
        "    model.train()\n",
        "    for epoch in range(epochs):\n",
        "        overall_loss = 0\n",
        "        for batch_idx, x in enumerate(train_loader):\n",
        "            \n",
        "            x = x.view(x.size(0), x_dim).to(device)\n",
        "\n",
        "            optimizer.zero_grad()\n",
        "\n",
        "            x_hat, mean, log_var = model(x)\n",
        "            loss = loss_function(x, x_hat, mean, log_var)\n",
        "            \n",
        "            overall_loss += loss.item()\n",
        "            \n",
        "            loss.backward()\n",
        "            optimizer.step()\n",
        "\n",
        "        print(\"\\tEpoch\", epoch + 1, \"\\tAverage Loss: \", overall_loss/(batch_idx*batch_size))\n",
        "    return overall_loss"
      ]
    },
    {
      "cell_type": "code",
      "execution_count": 17,
      "metadata": {},
      "outputs": [
        {
          "name": "stdout",
          "output_type": "stream",
          "text": [
            "<class 'torch.Tensor'>\n",
            "torch.Size([22, 16063])\n"
          ]
        }
      ],
      "source": [
        "# Get the first batch of data\n",
        "first_batch = next(iter(train_loader))\n",
        "\n",
        "# Print the type and length/shape of the first batch\n",
        "print(type(first_batch))\n",
        "if isinstance(first_batch, (list, tuple)):\n",
        "    print([type(item) for item in first_batch])\n",
        "    print([item.shape if hasattr(item, 'shape') else len(item) for item in first_batch])\n",
        "else:\n",
        "    print(first_batch.shape if hasattr(first_batch, 'shape') else len(first_batch))\n"
      ]
    },
    {
      "cell_type": "code",
      "execution_count": 18,
      "metadata": {
        "colab": {
          "base_uri": "https://localhost:8080/"
        },
        "id": "VP-7CIF3GYUA",
        "outputId": "7e11a45f-d70f-428b-e93f-f32c2f464f38"
      },
      "outputs": [
        {
          "name": "stdout",
          "output_type": "stream",
          "text": [
            "\tEpoch 1 \tAverage Loss:  12224.938446969696\n",
            "\tEpoch 2 \tAverage Loss:  12108.850615530304\n",
            "\tEpoch 3 \tAverage Loss:  12093.078361742424\n",
            "\tEpoch 4 \tAverage Loss:  12089.43690814394\n",
            "\tEpoch 5 \tAverage Loss:  12083.179924242424\n",
            "\tEpoch 6 \tAverage Loss:  12080.20987215909\n",
            "\tEpoch 7 \tAverage Loss:  12078.72324810606\n",
            "\tEpoch 8 \tAverage Loss:  12078.465553977272\n",
            "\tEpoch 9 \tAverage Loss:  12077.809067234848\n",
            "\tEpoch 10 \tAverage Loss:  12077.61328125\n",
            "\tEpoch 11 \tAverage Loss:  12077.53847064394\n",
            "\tEpoch 12 \tAverage Loss:  12077.427911931818\n",
            "\tEpoch 13 \tAverage Loss:  12077.235795454546\n",
            "\tEpoch 14 \tAverage Loss:  12077.090317234848\n",
            "\tEpoch 15 \tAverage Loss:  12077.010535037878\n",
            "\tEpoch 16 \tAverage Loss:  12077.010771780304\n",
            "\tEpoch 17 \tAverage Loss:  12077.111505681818\n",
            "\tEpoch 18 \tAverage Loss:  12076.937144886364\n",
            "\tEpoch 19 \tAverage Loss:  12076.907433712122\n",
            "\tEpoch 20 \tAverage Loss:  12076.86825284091\n",
            "\tEpoch 21 \tAverage Loss:  12076.904119318182\n",
            "\tEpoch 22 \tAverage Loss:  12076.912286931818\n",
            "\tEpoch 23 \tAverage Loss:  12076.885416666666\n",
            "\tEpoch 24 \tAverage Loss:  12076.989109848484\n",
            "\tEpoch 25 \tAverage Loss:  12076.831912878788\n",
            "\tEpoch 26 \tAverage Loss:  12076.82196969697\n",
            "\tEpoch 27 \tAverage Loss:  12076.785511363636\n",
            "\tEpoch 28 \tAverage Loss:  12076.810369318182\n",
            "\tEpoch 29 \tAverage Loss:  12076.78740530303\n",
            "\tEpoch 30 \tAverage Loss:  12076.762665719696\n",
            "\tEpoch 31 \tAverage Loss:  12076.799834280304\n",
            "\tEpoch 32 \tAverage Loss:  12076.803740530304\n",
            "\tEpoch 33 \tAverage Loss:  12076.767637310606\n",
            "\tEpoch 34 \tAverage Loss:  12076.76621685606\n",
            "\tEpoch 35 \tAverage Loss:  12076.806226325758\n",
            "\tEpoch 36 \tAverage Loss:  12076.75165719697\n",
            "\tEpoch 37 \tAverage Loss:  12076.774976325758\n",
            "\tEpoch 38 \tAverage Loss:  12076.765980113636\n",
            "\tEpoch 39 \tAverage Loss:  12076.738991477272\n",
            "\tEpoch 40 \tAverage Loss:  12076.716145833334\n",
            "\tEpoch 41 \tAverage Loss:  12076.756865530304\n",
            "\tEpoch 42 \tAverage Loss:  12076.735203598484\n",
            "\tEpoch 43 \tAverage Loss:  12076.712949810606\n",
            "\tEpoch 44 \tAverage Loss:  12076.714370265152\n",
            "\tEpoch 45 \tAverage Loss:  12076.704900568182\n",
            "\tEpoch 46 \tAverage Loss:  12076.738991477272\n",
            "\tEpoch 47 \tAverage Loss:  12076.763257575758\n",
            "\tEpoch 48 \tAverage Loss:  12076.744791666666\n",
            "\tEpoch 49 \tAverage Loss:  12076.76171875\n",
            "\tEpoch 50 \tAverage Loss:  12076.69756155303\n"
          ]
        },
        {
          "data": {
            "text/plain": [
              "1594124.078125"
            ]
          },
          "execution_count": 18,
          "metadata": {},
          "output_type": "execute_result"
        }
      ],
      "source": [
        "trainVAE(model, optimizer, epochs=50, device=device)"
      ]
    },
    {
      "cell_type": "code",
      "execution_count": 21,
      "metadata": {},
      "outputs": [],
      "source": [
        "def generate_synthetic_data(model, num_samples, device):\n",
        "    model.eval()\n",
        "    with torch.no_grad():\n",
        "        # Sample from a standard normal distribution with shape [num_samples, 2]\n",
        "        z = torch.randn(num_samples, 2).to(device)  # Adjusted to match the decoder's input dimension\n",
        "        # Generate synthetic data\n",
        "        synthetic_data = model.decode(z)\n",
        "    return synthetic_data.cpu()\n",
        "\n",
        "# Example usage\n",
        "num_samples = 10  # Number of synthetic data points you want to generate\n",
        "synthetic_data = generate_synthetic_data(model, num_samples, device)\n",
        "\n"
      ]
    },
    {
      "cell_type": "code",
      "execution_count": 28,
      "metadata": {},
      "outputs": [
        {
          "data": {
            "text/plain": [
              "torch.Size([10, 16063])"
            ]
          },
          "execution_count": 28,
          "metadata": {},
          "output_type": "execute_result"
        }
      ],
      "source": [
        "synthetic_data.size()"
      ]
    },
    {
      "cell_type": "code",
      "execution_count": 35,
      "metadata": {},
      "outputs": [
        {
          "data": {
            "text/plain": [
              "tensor([0.4541, 0.4503, 0.4479,  ..., 0.4558, 0.4298, 0.4513])"
            ]
          },
          "execution_count": 35,
          "metadata": {},
          "output_type": "execute_result"
        }
      ],
      "source": [
        "synthetic_data[0]"
      ]
    },
    {
      "cell_type": "code",
      "execution_count": 47,
      "metadata": {},
      "outputs": [],
      "source": [
        "data = synthetic_data.numpy()"
      ]
    },
    {
      "cell_type": "code",
      "execution_count": 49,
      "metadata": {},
      "outputs": [
        {
          "data": {
            "text/plain": [
              "array([0.45411989092826843, 0.4502677917480469, 0.4478558897972107, ...,\n",
              "       0.4297598898410797, 0.4513128995895386, b'Lung'], dtype=object)"
            ]
          },
          "execution_count": 49,
          "metadata": {},
          "output_type": "execute_result"
        }
      ],
      "source": [
        "num_rows = data.shape[0]\n",
        "labels = np.full((num_rows, 1), b'Lung', dtype=object)\n",
        "\n",
        "# Combine the original array with the label column\n",
        "combined_data = np.column_stack((data, labels))\n",
        "\n",
        "combined_data[0]\n",
        "\n"
      ]
    },
    {
      "cell_type": "code",
      "execution_count": 53,
      "metadata": {},
      "outputs": [],
      "source": [
        "np.save('syn_lung.npy', combined_data)\n",
        "# lung = np.load('syn_lung.npy')"
      ]
    },
    {
      "cell_type": "code",
      "execution_count": 23,
      "metadata": {},
      "outputs": [],
      "source": [
        "# torch.save(model, 'vae_lung_model.pth') # save all model and parameters\n",
        "torch.save(model.state_dict(), 'vae_lung_model_state_dict.pth')\n"
      ]
    },
    {
      "cell_type": "code",
      "execution_count": null,
      "metadata": {},
      "outputs": [],
      "source": [
        "# Load model \n",
        "model = VAE(input_dim=16063, hidden_dim=400, latent_dim=200, device=device)\n",
        "model.load_state_dict(torch.load('vae_model_state_dict.pth'))\n",
        "model.to(device)\n"
      ]
    }
  ],
  "metadata": {
    "accelerator": "GPU",
    "colab": {
      "provenance": []
    },
    "gpuClass": "standard",
    "kernelspec": {
      "display_name": "Python 3",
      "name": "python3"
    },
    "language_info": {
      "codemirror_mode": {
        "name": "ipython",
        "version": 3
      },
      "file_extension": ".py",
      "mimetype": "text/x-python",
      "name": "python",
      "nbconvert_exporter": "python",
      "pygments_lexer": "ipython3",
      "version": "3.9.13"
    }
  },
  "nbformat": 4,
  "nbformat_minor": 0
}
