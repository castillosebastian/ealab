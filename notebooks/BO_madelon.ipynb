{
 "cells": [
  {
   "cell_type": "markdown",
   "id": "e058f67f",
   "metadata": {},
   "source": [
    "# Mandelon"
   ]
  },
  {
   "cell_type": "markdown",
   "id": "904e50b8",
   "metadata": {},
   "source": [
    "MADELON is an artificial dataset containing data points grouped in 32 clusters placed on the vertices of a five dimensional hypercube and randomly labeled +1 or -1. The five dimensions constitute 5 informative features. 15 linear combinations of those features were added to form a set of 20 (redundant) informative features. Based on those 20 features one must separate the examples into the 2 classes (corresponding to the +-1 labels). We added a number of distractor feature called 'probes' having no predictive power. The order of the features and patterns were randomized.\n"
   ]
  },
  {
   "cell_type": "markdown",
   "id": "462bde6f",
   "metadata": {},
   "source": [
    "Sources:\n",
    "- https://github.com/dstrodtman/madelon"
   ]
  },
  {
   "attachments": {},
   "cell_type": "markdown",
   "id": "36770985-f171-4897-8da7-6fdda5f3ed05",
   "metadata": {},
   "source": [
    "## Importamos librerías"
   ]
  },
  {
   "cell_type": "code",
   "execution_count": 1,
   "id": "1dd078ca-8a70-44fb-a1a5-b4c8c0a026af",
   "metadata": {},
   "outputs": [],
   "source": [
    "import math\n",
    "import random\n",
    "import matplotlib.pyplot as plt\n",
    "import numpy as np\n",
    "import pandas as pd\n",
    "import polars as pl\n",
    "from sklearn.neural_network import MLPClassifier\n",
    "from sklearn.preprocessing import StandardScaler, MinMaxScaler, PolynomialFeatures, RobustScaler\n",
    "from sklearn.decomposition import PCA\n",
    "from scipy.stats import boxcox\n",
    "from itertools import combinations\n",
    "from sklearn.neural_network import MLPClassifier\n",
    "from sklearn.svm import SVC\n",
    "from sklearn.metrics import log_loss\n",
    "from sklearn.pipeline import Pipeline\n",
    "from tqdm import tqdm\n",
    "from deap import base  # Estructura que permite agrupar todos los componentes de nuestro algoritmo en una misma bolsa\n",
    "from deap import creator  # Permite crear los componentes de nuestro algoritmo\n",
    "from deap import tools  # Contiene funciones precargadas\n",
    "from joblib import Parallel, delayed\n",
    "from scipy.io import arff\n",
    "scaler = StandardScaler()"
   ]
  },
  {
   "cell_type": "code",
   "execution_count": 2,
   "id": "6bb75661",
   "metadata": {},
   "outputs": [],
   "source": [
    "tra, trameta = arff.loadarff('/home/sebacastillo/ealab/data/madelon.trn.arff')\n",
    "tst, tstmeta = arff.loadarff('/home/sebacastillo/ealab/data/madelon.tst.arff')\n",
    "train = pl.DataFrame(tra)\n",
    "test =  pl.DataFrame(tst)\n"
   ]
  },
  {
   "cell_type": "code",
   "execution_count": 3,
   "id": "0d5bafec",
   "metadata": {},
   "outputs": [],
   "source": [
    "train = (\n",
    "    train.with_columns(\n",
    "        pl.col('class').cast(pl.datatypes.Utf8)\n",
    "    )   \n",
    ")\n",
    "\n",
    "test = (\n",
    "    test.with_columns(\n",
    "        pl.col('class').cast(pl.datatypes.Utf8)\n",
    "    )   \n",
    ")\n"
   ]
  },
  {
   "cell_type": "code",
   "execution_count": 4,
   "id": "b809a9f3",
   "metadata": {},
   "outputs": [
    {
     "data": {
      "text/html": [
       "<div><style>\n",
       ".dataframe > thead > tr > th,\n",
       ".dataframe > tbody > tr > td {\n",
       "  text-align: right;\n",
       "}\n",
       "</style>\n",
       "<small>shape: (2, 2)</small><table border=\"1\" class=\"dataframe\"><thead><tr><th>class</th><th>count</th></tr><tr><td>str</td><td>u32</td></tr></thead><tbody><tr><td>&quot;-1&quot;</td><td>1000</td></tr><tr><td>&quot;1&quot;</td><td>1000</td></tr></tbody></table></div>"
      ],
      "text/plain": [
       "shape: (2, 2)\n",
       "┌───────┬───────┐\n",
       "│ class ┆ count │\n",
       "│ ---   ┆ ---   │\n",
       "│ str   ┆ u32   │\n",
       "╞═══════╪═══════╡\n",
       "│ -1    ┆ 1000  │\n",
       "│ 1     ┆ 1000  │\n",
       "└───────┴───────┘"
      ]
     },
     "execution_count": 4,
     "metadata": {},
     "output_type": "execute_result"
    }
   ],
   "source": [
    "train.groupby('class').agg(pl.count())"
   ]
  },
  {
   "cell_type": "code",
   "execution_count": 5,
   "id": "b8fc82da",
   "metadata": {},
   "outputs": [
    {
     "name": "stdout",
     "output_type": "stream",
     "text": [
      "(2000, 501)\n",
      "(600, 501)\n"
     ]
    },
    {
     "data": {
      "text/plain": [
       "(None, None)"
      ]
     },
     "execution_count": 5,
     "metadata": {},
     "output_type": "execute_result"
    }
   ],
   "source": [
    "print(train.shape), print(test.shape)"
   ]
  },
  {
   "cell_type": "code",
   "execution_count": 6,
   "id": "f5182035-78f5-43b2-b817-a21c2c4b804e",
   "metadata": {},
   "outputs": [],
   "source": [
    "TRAIN = train\n",
    "TEST = test"
   ]
  },
  {
   "attachments": {},
   "cell_type": "markdown",
   "id": "40791c59-5d5f-4fa5-aa85-9fb6a6d5677e",
   "metadata": {},
   "source": [
    "# Normalizamos los datos"
   ]
  },
  {
   "cell_type": "code",
   "execution_count": 7,
   "id": "ac1b167a-fa67-4a64-9c1a-2be96256c4ef",
   "metadata": {},
   "outputs": [],
   "source": [
    "\n",
    "TRAIN = TRAIN.to_numpy()\n",
    "TEST = TEST.to_numpy()\n",
    "\n",
    "X_TRAIN = TRAIN[:,:-1]\n",
    "y_train = TRAIN[:,-1]\n",
    "y_train = np.where(np.array(y_train) == '1', 1, 0).astype('int64')\n",
    "X_TEST = TEST[:,:-1]\n",
    "y_test = TEST[:,-1]\n",
    "y_test = np.where(np.array(y_test) == '1', 1, 0).astype('int64')\n",
    "scaler.fit(X_TRAIN)\n",
    "X_train = scaler.transform(X_TRAIN)\n",
    "X_test = scaler.transform(X_TEST)\n"
   ]
  },
  {
   "cell_type": "markdown",
   "id": "cd198ada",
   "metadata": {},
   "source": [
    "# Bayesian Optimization"
   ]
  },
  {
   "cell_type": "code",
   "execution_count": 12,
   "id": "68a127f7",
   "metadata": {},
   "outputs": [],
   "source": [
    "from sklearn.datasets import make_classification\n",
    "from sklearn.model_selection import cross_val_score\n",
    "from sklearn.ensemble import RandomForestClassifier as RFC\n",
    "from sklearn.svm import SVC\n",
    "\n",
    "from bayes_opt import BayesianOptimization\n",
    "from bayes_opt.util import Colours"
   ]
  },
  {
   "cell_type": "markdown",
   "id": "45976297",
   "metadata": {},
   "source": [
    "# 0 "
   ]
  },
  {
   "cell_type": "code",
   "execution_count": 13,
   "id": "af727540",
   "metadata": {},
   "outputs": [],
   "source": [
    "def svc_cv(C, gamma, data, targets):\n",
    "    \"\"\"SVC cross validation.\n",
    "    This function will instantiate a SVC classifier with parameters C and\n",
    "    gamma. Combined with data and targets this will in turn be used to perform\n",
    "    cross validation. The result of cross validation is returned.\n",
    "    Our goal is to find combinations of C and gamma that maximizes the roc_auc\n",
    "    metric.\n",
    "    \"\"\"\n",
    "    estimator = SVC(C=C, gamma=gamma, random_state=2)\n",
    "    cval = cross_val_score(estimator, data, targets, scoring='roc_auc', cv=4)\n",
    "    return cval.mean()\n",
    "\n",
    "def optimize_svc(data, targets):\n",
    "    \"\"\"Apply Bayesian Optimization to SVC parameters.\"\"\"\n",
    "    def svc_crossval(expC, expGamma):\n",
    "        \"\"\"Wrapper of SVC cross validation.\n",
    "\n",
    "        Notice how we transform between regular and log scale. While this\n",
    "        is not technically necessary, it greatly improves the performance\n",
    "        of the optimizer.\n",
    "        \"\"\"\n",
    "        C = 10 ** expC\n",
    "        gamma = 10 ** expGamma\n",
    "        return svc_cv(C=C, gamma=gamma, data=data, targets=targets)\n",
    "\n",
    "    optimizer = BayesianOptimization(\n",
    "        f=svc_crossval,\n",
    "        pbounds={\"expC\": (-3, 2), \"expGamma\": (-4, -1)},\n",
    "        random_state=1234,\n",
    "        verbose=2\n",
    "    )\n",
    "    optimizer.maximize(n_iter=100)\n",
    "\n",
    "    print(\"Final result:\", optimizer.max)\n",
    "\n",
    "\n",
    "def rfc_cv(n_estimators, min_samples_split, max_features, data, targets):\n",
    "    \"\"\"Random Forest cross validation.\n",
    "    This function will instantiate a random forest classifier with parameters\n",
    "    n_estimators, min_samples_split, and max_features. Combined with data and\n",
    "    targets this will in turn be used to perform cross validation. The result\n",
    "    of cross validation is returned.\n",
    "    Our goal is to find combinations of n_estimators, min_samples_split, and\n",
    "    max_features that minimizes the log loss.\n",
    "    \"\"\"\n",
    "    estimator = RFC(\n",
    "        n_estimators=n_estimators,\n",
    "        min_samples_split=min_samples_split,\n",
    "        max_features=max_features,\n",
    "        random_state=2\n",
    "    )\n",
    "    cval = cross_val_score(estimator, data, targets,\n",
    "                           scoring='neg_log_loss', cv=4)\n",
    "    return cval.mean()\n",
    "\n",
    "def optimize_rfc(data, targets):\n",
    "    \"\"\"Apply Bayesian Optimization to Random Forest parameters.\"\"\"\n",
    "    def rfc_crossval(n_estimators, min_samples_split, max_features):\n",
    "        \"\"\"Wrapper of RandomForest cross validation.\n",
    "\n",
    "        Notice how we ensure n_estimators and min_samples_split are casted\n",
    "        to integer before we pass them along. Moreover, to avoid max_features\n",
    "        taking values outside the (0, 1) range, we also ensure it is capped\n",
    "        accordingly.\n",
    "        \"\"\"\n",
    "        return rfc_cv(\n",
    "            n_estimators=int(n_estimators),\n",
    "            min_samples_split=int(min_samples_split),\n",
    "            max_features=max(min(max_features, 0.999), 1e-3),\n",
    "            data=data,\n",
    "            targets=targets,\n",
    "        )\n",
    "\n",
    "    optimizer = BayesianOptimization(\n",
    "        f=rfc_crossval,\n",
    "        pbounds={\n",
    "            \"n_estimators\": (10, 250),\n",
    "            \"min_samples_split\": (2, 25),\n",
    "            \"max_features\": (0.1, 0.999),\n",
    "        },\n",
    "        random_state=1234,\n",
    "        verbose=2\n",
    "    )\n",
    "    optimizer.maximize(n_iter=10)\n",
    "\n",
    "    print(\"Final result:\", optimizer.max)\n"
   ]
  },
  {
   "cell_type": "code",
   "execution_count": null,
   "id": "f6c756b3",
   "metadata": {},
   "outputs": [],
   "source": [
    "print(Colours.yellow(\"--- Optimizing SVM ---\"))\n",
    "optimize_svc(X_train, y_train)"
   ]
  },
  {
   "cell_type": "code",
   "execution_count": null,
   "metadata": {},
   "outputs": [],
   "source": [
    "print(Colours.green(\"--- Optimizing Random Forest ---\"))\n",
    "optimize_rfc(data, targets)"
   ]
  },
  {
   "cell_type": "code",
   "execution_count": null,
   "metadata": {},
   "outputs": [],
   "source": []
  },
  {
   "cell_type": "code",
   "execution_count": null,
   "metadata": {},
   "outputs": [],
   "source": []
  },
  {
   "cell_type": "code",
   "execution_count": null,
   "metadata": {},
   "outputs": [],
   "source": []
  },
  {
   "cell_type": "code",
   "execution_count": null,
   "id": "4376cdb1",
   "metadata": {},
   "outputs": [],
   "source": []
  },
  {
   "cell_type": "code",
   "execution_count": null,
   "metadata": {},
   "outputs": [],
   "source": []
  },
  {
   "cell_type": "code",
   "execution_count": null,
   "id": "7ee53788",
   "metadata": {},
   "outputs": [],
   "source": []
  },
  {
   "cell_type": "code",
   "execution_count": null,
   "metadata": {},
   "outputs": [],
   "source": []
  },
  {
   "cell_type": "code",
   "execution_count": null,
   "metadata": {},
   "outputs": [],
   "source": []
  },
  {
   "cell_type": "code",
   "execution_count": null,
   "metadata": {},
   "outputs": [],
   "source": []
  },
  {
   "cell_type": "code",
   "execution_count": null,
   "metadata": {},
   "outputs": [],
   "source": []
  },
  {
   "cell_type": "code",
   "execution_count": null,
   "id": "bcd24a6b",
   "metadata": {},
   "outputs": [],
   "source": []
  },
  {
   "cell_type": "code",
   "execution_count": null,
   "id": "354ec3a2",
   "metadata": {},
   "outputs": [],
   "source": []
  },
  {
   "cell_type": "code",
   "execution_count": null,
   "id": "83ab0a74",
   "metadata": {},
   "outputs": [],
   "source": []
  },
  {
   "cell_type": "code",
   "execution_count": null,
   "id": "9965d291",
   "metadata": {},
   "outputs": [],
   "source": []
  },
  {
   "cell_type": "markdown",
   "id": "ecb4b9dc",
   "metadata": {},
   "source": [
    "# 1"
   ]
  },
  {
   "cell_type": "code",
   "execution_count": 8,
   "id": "ff22907a",
   "metadata": {},
   "outputs": [],
   "source": [
    "import pandas as pd\n",
    "from sklearn.ensemble import RandomForestRegressor\n",
    "from sklearn.model_selection import cross_val_score\n",
    "from bayes_opt import BayesianOptimization"
   ]
  },
  {
   "cell_type": "code",
   "execution_count": 9,
   "metadata": {},
   "outputs": [],
   "source": [
    "def objective(n_estimators, max_depth, min_samples_split, max_features):\n",
    "    model = RandomForestRegressor(n_estimators=int(n_estimators),\n",
    "                                  max_depth=int(max_depth),\n",
    "                                  min_samples_split=int(min_samples_split),\n",
    "                                  max_features=min(max_features, 0.999),  # Fraction, must be <= 1.0\n",
    "                                  random_state=42)\n",
    "\n",
    "    return -1.0 * cross_val_score(model, X_train, y_train, cv=3, scoring=\"neg_mean_squared_error\").mean()"
   ]
  },
  {
   "cell_type": "code",
   "execution_count": 10,
   "id": "5ef36250",
   "metadata": {},
   "outputs": [],
   "source": [
    "# Bounds for hyperparameters\n",
    "param_bounds = {\n",
    "    'n_estimators': (10, 250),\n",
    "    'max_depth': (1, 50),\n",
    "    'min_samples_split': (2, 25),\n",
    "    'max_features': (0.1, 0.999),\n",
    "}"
   ]
  },
  {
   "cell_type": "code",
   "execution_count": null,
   "metadata": {},
   "outputs": [],
   "source": [
    "optimizer = BayesianOptimization(f=objective, pbounds=param_bounds, random_state=42)\n",
    "optimizer.maximize(init_points=5, n_iter=15)"
   ]
  },
  {
   "cell_type": "code",
   "execution_count": null,
   "id": "7e0472ab",
   "metadata": {},
   "outputs": [],
   "source": [
    "best_params = optimizer.max['params']"
   ]
  },
  {
   "cell_type": "code",
   "execution_count": null,
   "id": "068be6de",
   "metadata": {},
   "outputs": [],
   "source": [
    "best_params_formatted = {\n",
    "    'n_estimators': int(best_params['n_estimators']),\n",
    "    'max_depth': int(best_params['max_depth']),\n",
    "    'min_samples_split': int(best_params['min_samples_split']),\n",
    "    'max_features': best_params['max_features']\n",
    "}\n"
   ]
  },
  {
   "cell_type": "code",
   "execution_count": null,
   "id": "4dea7a6d",
   "metadata": {},
   "outputs": [],
   "source": [
    "optimized_rf = RandomForestRegressor(**best_params_formatted, random_state=42)"
   ]
  },
  {
   "cell_type": "code",
   "execution_count": null,
   "id": "76708863",
   "metadata": {},
   "outputs": [],
   "source": [
    "optimized_rf.fit(X_train, y_train)"
   ]
  },
  {
   "cell_type": "code",
   "execution_count": null,
   "id": "acc57970",
   "metadata": {},
   "outputs": [],
   "source": []
  },
  {
   "cell_type": "markdown",
   "id": "6889e0a7",
   "metadata": {},
   "source": [
    "# 2"
   ]
  },
  {
   "cell_type": "code",
   "execution_count": 8,
   "id": "3be8f5d2",
   "metadata": {},
   "outputs": [],
   "source": [
    "from sklearn.metrics import roc_auc_score\n",
    "from bayes_opt import BayesianOptimization, UtilityFunction"
   ]
  },
  {
   "cell_type": "code",
   "execution_count": 20,
   "id": "685147f8",
   "metadata": {},
   "outputs": [],
   "source": [
    "# Create the optimizer. The black box function to optimize is not\n",
    "# specified here, as we will call that function directly later on.\n",
    "optimizer = BayesianOptimization(f = None, \n",
    "                                 pbounds = {\"C\": [0.01, 100], \n",
    "                                            \"degree\": [1, 10],\n",
    "                                            \"gamma\": [0.001, 1]\n",
    "                                            }, \n",
    "                                 verbose = 2, random_state = 1234)\n",
    "# Specify the acquisition function (bayes_opt uses the term\n",
    "# utility function) to be the upper confidence bounds \"ucb\".\n",
    "# We set kappa = 1.96 to balance exploration vs exploitation.\n",
    "# xi = 0.01 is another hyper parameter which is required in the\n",
    "# arguments, but is not used by \"ucb\". Other acquisition functions\n",
    "# such as the expected improvement \"ei\" will be affected by xi.\n",
    "utility = UtilityFunction(kind = \"ucb\", kappa = 1.96, xi = 0.01)\n",
    "# We want to optimize both C and degree simultaneously.\n",
    "def black_box_function(C, degree, gamma):\n",
    "    model = SVC(C = C, degree = degree, gamma=gamma)\n",
    "    model.fit(X_train, y_train)\n",
    "    y_score = model.decision_function(X_test)\n",
    "    f = roc_auc_score(y_test, y_score)\n",
    "    return f\n"
   ]
  },
  {
   "cell_type": "code",
   "execution_count": 23,
   "id": "e8d94fe1",
   "metadata": {},
   "outputs": [],
   "source": [
    "# Optimization for loop.\n",
    "for i in range(100):\n",
    "    # Get optimizer to suggest new parameter values to try using the\n",
    "    # specified acquisition function.\n",
    "    next_point = optimizer.suggest(utility)\n",
    "    # Force degree from float to int.\n",
    "    next_point[\"degree\"] = int(next_point[\"degree\"])\n",
    "    # Evaluate the output of the black_box_function using \n",
    "    # the new parameter values.\n",
    "    target = black_box_function(**next_point)\n",
    "    try:\n",
    "        # Update the optimizer with the evaluation results. \n",
    "        # This should be in try-except to catch any errors!\n",
    "        optimizer.register(params = next_point, target = target)\n",
    "    except:\n",
    "        pass\n"
   ]
  },
  {
   "cell_type": "code",
   "execution_count": 24,
   "id": "72841230",
   "metadata": {},
   "outputs": [
    {
     "name": "stdout",
     "output_type": "stream",
     "text": [
      "Best result: {'C': 12.624645437958755, 'degree': 4.0, 'gamma': 0.012304224620301972}; f(x) = 0.630.\n"
     ]
    },
    {
     "data": {
      "image/png": "[encoded data removed]",
      "text/plain": [
       "<Figure size 1500x500 with 1 Axes>"
      ]
     },
     "metadata": {},
     "output_type": "display_data"
    }
   ],
   "source": [
    "print(\"Best result: {}; f(x) = {:.3f}.\".format(optimizer.max[\"params\"], optimizer.max[\"target\"]))\n",
    "plt.figure(figsize = (15, 5))\n",
    "plt.plot(range(1, 1 + len(optimizer.space.target)), optimizer.space.target, \"-o\")\n",
    "plt.grid(True)\n",
    "plt.xlabel(\"Iteration\", fontsize = 14)\n",
    "plt.ylabel(\"Black box function f(x)\", fontsize = 14)\n",
    "plt.xticks(fontsize = 14)\n",
    "plt.yticks(fontsize = 14)\n",
    "plt.show()"
   ]
  }
 ],
 "metadata": {
  "kernelspec": {
   "display_name": "Python 3 (ipykernel)",
   "language": "python",
   "name": "python3"
  },
  "language_info": {
   "codemirror_mode": {
    "name": "ipython",
    "version": 3
   },
   "file_extension": ".py",
   "mimetype": "text/x-python",
   "name": "python",
   "nbconvert_exporter": "python",
   "pygments_lexer": "ipython3",
   "version": "3.9.13"
  }
 },
 "nbformat": 4,
 "nbformat_minor": 5
}
