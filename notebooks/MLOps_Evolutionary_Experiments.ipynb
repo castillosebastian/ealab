{
 "cells": [
  {
   "attachments": {},
   "cell_type": "markdown",
   "metadata": {},
   "source": [
    "# Notes on MLOps for experiments in Evolutionary Algorithms "
   ]
  },
  {
   "attachments": {},
   "cell_type": "markdown",
   "metadata": {},
   "source": [
    "Author: Castillo Claudio Sebastián"
   ]
  },
  {
   "attachments": {},
   "cell_type": "markdown",
   "metadata": {},
   "source": [
    "In this document, I propose an architecture for experimenting with Evolutionary Algorithms in the context of my Master's Thesis in Machine Learning at Universidad Tecnológica Nacional, Argentina."
   ]
  }
 ],
 "metadata": {
  "language_info": {
   "name": "python"
  },
  "orig_nbformat": 4
 },
 "nbformat": 4,
 "nbformat_minor": 2
}
