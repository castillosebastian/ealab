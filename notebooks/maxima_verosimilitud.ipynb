{
 "cells": [
  {
   "cell_type": "markdown",
   "metadata": {},
   "source": [
    "# Log-likehood "
   ]
  },
  {
   "cell_type": "code",
   "execution_count": 1,
   "metadata": {},
   "outputs": [
    {
     "data": {
      "image/png": "[encoded data removed]",
      "text/plain": [
       "<Figure size 640x480 with 1 Axes>"
      ]
     },
     "metadata": {},
     "output_type": "display_data"
    }
   ],
   "source": [
    "import numpy as np\n",
    "import matplotlib.pyplot as plt\n",
    "\n",
    "# Parámetros reales\n",
    "mu_real = 5\n",
    "sigma = 2\n",
    "\n",
    "# Generar datos\n",
    "np.random.seed(0)\n",
    "data = np.random.normal(mu_real, sigma, 100)\n",
    "\n",
    "# Visualizar datos\n",
    "plt.hist(data, bins=30, edgecolor='k', alpha=0.7)\n",
    "plt.title('Histograma de los datos simulados')\n",
    "plt.xlabel('Valor')\n",
    "plt.ylabel('Frecuencia')\n",
    "plt.show()\n"
   ]
  },
  {
   "cell_type": "code",
   "execution_count": 2,
   "metadata": {},
   "outputs": [],
   "source": [
    "def log_likelihood(mu, data, sigma):\n",
    "    n = len(data)\n",
    "    return -n/2 * np.log(2 * np.pi * sigma**2) - 1/(2 * sigma**2) * np.sum((data - mu)**2)\n"
   ]
  },
  {
   "cell_type": "code",
   "execution_count": 3,
   "metadata": {},
   "outputs": [
    {
     "name": "stdout",
     "output_type": "stream",
     "text": [
      "El estimador de máxima verosimilitud para mu es: 5.119616318537901\n"
     ]
    }
   ],
   "source": [
    "from scipy.optimize import minimize\n",
    "\n",
    "# Función negativa de la log-verosimilitud\n",
    "neg_log_likelihood = lambda mu: -log_likelihood(mu, data, sigma)\n",
    "\n",
    "# Encontrar el valor óptimo de mu\n",
    "result = minimize(neg_log_likelihood, x0=0)\n",
    "mu_mle = result.x[0]\n",
    "\n",
    "print(f'El estimador de máxima verosimilitud para mu es: {mu_mle}')\n"
   ]
  },
  {
   "cell_type": "code",
   "execution_count": 5,
   "metadata": {},
   "outputs": [
    {
     "name": "stdout",
     "output_type": "stream",
     "text": [
      "La media muestral es: 5.11961603106897\n"
     ]
    }
   ],
   "source": [
    "mu_muestral = np.mean(data)\n",
    "print(f'La media muestral es: {mu_muestral}')\n"
   ]
  },
  {
   "cell_type": "markdown",
   "metadata": {},
   "source": [
    "# Paso a Paso Cálculo completo de Log-Verosimilitud"
   ]
  },
  {
   "cell_type": "markdown",
   "metadata": {},
   "source": [
    "# Función de verosimilitud\n",
    "\n",
    "La función de verosimilitud es una función que mide la probabilidad de que los parámetros de un modelo generen los datos observados. En otras palabras, la función de verosimilitud mide qué tan bien se ajusta un modelo a los datos observados.\n",
    "\n",
    "La función de verosimilitud se denota como $L(\\theta | x)$, donde $\\theta$ es el parámetro del modelo y $x$ es el conjunto de datos observados.\n",
    "\n",
    "La función de verosimilitud se define como:\n",
    "\n",
    "$$L(\\theta | x) = P(x | \\theta)$$\n",
    "\n",
    "Donde $P(x | \\theta)$ es la probabilidad de que los datos observados $x$ sean generados por el modelo con parámetros $\\theta$.\n",
    "\n",
    "# Log-verosimilitud\n",
    "\n",
    "La log-verosimilitud es simplemente el logaritmo de la función de verosimilitud. La log-verosimilitud se denota como $l(\\theta | x)$ y se define como:\n",
    "\n",
    "$$l(\\theta | x) = \\log L(\\theta | x)$$\n",
    "\n",
    "La log-verosimilitud se utiliza comúnmente en la estadística para simplificar los cálculos y para convertir productos en sumas.\n",
    "\n",
    "# Ejemplo\n",
    "\n",
    "Supongamos que tenemos un modelo de regresión lineal simple con una sola variable independiente $x$ y una variable dependiente $y$. El modelo de regresión lineal simple se define como:\n",
    "\n",
    "$$y = \\beta_0 + \\beta_1 x + \\epsilon$$\n",
    "\n",
    "Donde $\\beta_0$ y $\\beta_1$ son los parámetros del modelo y $\\epsilon$ es el término de error.\n",
    "\n",
    "La función de verosimilitud para el modelo de regresión lineal simple se define como:\n",
    "\n",
    "$$L(\\beta_0, \\beta_1 | x, y) = P(y | \\beta_0, \\beta_1, x)$$\n",
    "\n",
    "Donde $P(y | \\beta_0, \\beta_1, x)$ es la probabilidad de que los datos observados $y$ sean generados por el modelo de regresión lineal simple con parámetros $\\beta_0$ y $\\beta_1$.\n",
    "\n",
    "La log-verosimilitud para el modelo de regresión lineal simple se define como:\n",
    "\n",
    "$$l(\\beta_0, \\beta_1 | x, y) = \\log L(\\beta_0, \\beta_1 | x, y)$$\n",
    "\n",
    "\n"
   ]
  },
  {
   "cell_type": "markdown",
   "metadata": {},
   "source": [
    "# Función de Máxima Verosimilitud\n",
    "\n",
    "La función de máxima verosimilitud mide qué tan probable es observar un conjunto de datos dados los parámetros del modelo. Para una distribución normal con media $\\mu$ y desviación estándar conocida $\\sigma$, la función de log-verosimilitud se deriva de la siguiente manera.\n",
    "\n",
    "## Distribución Normal\n",
    "\n",
    "La función de densidad de probabilidad de una distribución normal es:\n",
    "\n",
    "$$\n",
    "f(x | \\mu, \\sigma) = \\frac{1}{\\sqrt{2\\pi\\sigma^2}} \\exp\\left( -\\frac{(x - \\mu)^2}{2\\sigma^2} \\right)\n",
    "$$\n",
    "\n",
    "Para un conjunto de datos $\\mathbf{x} = (x_1, x_2, \\ldots, x_n)$, la función de verosimilitud es:\n",
    "\n",
    "$$\n",
    "L(\\mu | \\mathbf{x}) = \\prod_{i=1}^{n} f(x_i | \\mu, \\sigma) = \\prod_{i=1}^{n} \\frac{1}{\\sqrt{2\\pi\\sigma^2}} \\exp\\left( -\\frac{(x_i - \\mu)^2}{2\\sigma^2} \\right)\n",
    "$$\n",
    "\n",
    "## Función de Log-Verosimilitud\n",
    "\n",
    "Es más conveniente trabajar con el logaritmo de la función de verosimilitud, conocido como log-verosimilitud. Tomando el logaritmo natural:\n",
    "\n",
    "$$\n",
    "l(\\mu | \\mathbf{x}) = \\log L(\\mu | \\mathbf{x}) = \\log \\left( \\prod_{i=1}^{n} \\frac{1}{\\sqrt{2\\pi\\sigma^2}} \\exp\\left( -\\frac{(x_i - \\mu)^2}{2\\sigma^2} \\right) \\right)\n",
    "$$\n",
    "\n",
    "Usando las propiedades del logaritmo:\n",
    "\n",
    "$$\n",
    "l(\\mu | \\mathbf{x}) = \\sum_{i=1}^{n} \\log \\left( \\frac{1}{\\sqrt{2\\pi\\sigma^2}} \\right) + \\sum_{i=1}^{n} \\log \\left( \\exp\\left( -\\frac{(x_i - \\mu)^2}{2\\sigma^2} \\right) \\right)\n",
    "$$\n",
    "\n",
    "Simplificando:\n",
    "\n",
    "$$\n",
    "l(\\mu | \\mathbf{x}) = \\sum_{i=1}^{n} \\left( -\\frac{1}{2} \\log (2\\pi\\sigma^2) - \\frac{(x_i - \\mu)^2}{2\\sigma^2} \\right)\n",
    "$$\n",
    "\n",
    "Agrupando términos:\n",
    "\n",
    "$$\n",
    "l(\\mu | \\mathbf{x}) = -\\frac{n}{2} \\log (2\\pi\\sigma^2) - \\frac{1}{2\\sigma^2} \\sum_{i=1}^{n} (x_i - \\mu)^2\n",
    "$$\n",
    "\n",
    "## Implementación en Python\n",
    "\n",
    "A continuación se muestra la implementación de la función de log-verosimilitud en Python:\n",
    "\n",
    "```python\n",
    "import numpy as np\n",
    "\n",
    "def log_likelihood(mu, data, sigma):\n",
    "    n = len(data)  # Número de datos\n",
    "    # Calculamos la log-verosimilitud\n",
    "    log_lik = -n/2 * np.log(2 * np.pi * sigma**2) - 1/(2 * sigma**2) * np.sum((data - mu)**2)\n",
    "    return log_lik\n"
   ]
  },
  {
   "cell_type": "code",
   "execution_count": null,
   "metadata": {},
   "outputs": [],
   "source": [
    "def log_likelihood_seba(mu, sigma, data):\n",
    "    n = len(data)\n",
    "    return -n/2 * np.log(2*np.pi*sigma**2) - 1/(2*sigma**2) * np.sum((data-mu)**2)"
   ]
  },
  {
   "cell_type": "markdown",
   "metadata": {},
   "source": [
    "### Explicación de los Términos\n",
    "\n",
    "1. **Constante Normalizadora ($(-\\frac{n}{2} \\log (2\\pi\\sigma^2))$):**\n",
    "   - Este término proviene del logaritmo de la constante de normalización de la distribución normal.\n",
    "   - Para cada punto de datos $(x_i)$, la constante de normalización es $(\\frac{1}{\\sqrt{2\\pi\\sigma^2}})$. Al tomar el logaritmo y sumar sobre todos los datos, obtenemos $(n)$ veces el logaritmo de esta constante.\n",
    "   - Esencialmente, este término ajusta la escala de la probabilidad para asegurar que la función de densidad de probabilidad se integre a uno.\n",
    "\n",
    "2. **Suma de Cuadrados de las Desviaciones Normalizadas ($(-\\frac{1}{2\\sigma^2} \\sum_{i=1}^{n} (x_i - \\mu)^2)$):**\n",
    "   - Este término mide la discrepancia entre los datos observados y la media propuesta $(\\mu)$.\n",
    "   - Para cada punto de datos $(x_i)$, calculamos el cuadrado de la diferencia entre el dato y la media propuesta, normalizado por la varianza $(\\sigma^2)$.\n",
    "   - La suma de estos términos sobre todos los datos nos da una medida total de esta discrepancia.\n",
    "   - Multiplicar por $(-\\frac{1}{2\\sigma^2})$ ajusta esta medida para que coincida con la forma de la función de densidad de probabilidad de la distribución normal.\n",
    "\n",
    "### Interpretación\n",
    "\n",
    "- **Constante Normalizadora:**\n",
    "  - Asegura que la densidad de probabilidad esté correctamente escalada.\n",
    "  - No depende de los datos, pero sí del tamaño de la muestra $(n)$.\n",
    "\n",
    "- **Suma de Cuadrados de las Desviaciones:**\n",
    "  - Captura cuán bien la media propuesta $(\\mu)$ describe los datos observados.\n",
    "  - Al minimizar esta suma, encontramos la media que mejor se ajusta a los datos en términos de verosimilitud.\n",
    "\n",
    "### Función de Log-Verosimilitud en Python\n",
    "\n",
    "La función en Python que implementa esta log-verosimilitud es:\n",
    "\n",
    "```python\n",
    "import numpy as np\n",
    "\n",
    "def log_likelihood(mu, data, sigma):\n",
    "    n = len(data)  # Número de datos\n",
    "    # Calculamos la log-verosimilitud\n",
    "    log_lik = -n/2 * np.log(2 * np.pi * sigma**2) - 1/(2 * sigma**2) * np.sum((data - mu)**2)\n",
    "    return log_lik\n",
    "```\n",
    "\n",
    "### Parámetros de Entrada\n",
    "\n",
    "- `mu`: La media propuesta de la distribución normal.\n",
    "- `data`: Un array de datos observados.\n",
    "- `sigma`: La desviación estándar conocida de la distribución normal.\n",
    "\n",
    "### Términos de la Función\n",
    "\n",
    "1. **Número de Datos (\\( n \\)):**\n",
    "   - `n = len(data)`\n",
    "   - Calcula el número de datos en el array `data`.\n",
    "\n",
    "2. **Término Constante:**\n",
    "   - `-n/2 * np.log(2 * np.pi * sigma**2)`\n",
    "   - Este término ajusta la escala de la probabilidad para asegurar que la función de densidad de probabilidad se integre a uno.\n",
    "\n",
    "3. **Suma de Cuadrados de las Desviaciones:**\n",
    "   - `-1/(2 * sigma**2) * np.sum((data - mu)**2)`\n",
    "   - Mide la discrepancia entre los datos observados y la media propuesta \\( \\mu \\).\n",
    "\n",
    "### Retorno\n",
    "\n",
    "- La función retorna el valor de la log-verosimilitud `log_lik` para la media propuesta \\( \\mu \\).\n",
    "\n",
    "### Interpretación\n",
    "\n",
    "- **Maximización:**\n",
    "  - La estimación de máxima verosimilitud (MLE) se encuentra maximizando esta función de log-verosimilitud respecto a \\( \\mu \\).\n",
    "- **Negación para Minimización:**\n",
    "  - Para utilizar un algoritmo de minimización (como `scipy.optimize.minimize`), minimizamos el negativo de esta función.\n",
    "\n",
    "Espero que esta explicación te haya ayudado a entender la racionalidad detrás de cada uno de los términos de la función de verosimilitud de una distribución normal. Si tienes más preguntas, ¡no dudes en preguntar!"
   ]
  },
  {
   "cell_type": "markdown",
   "metadata": {},
   "source": [
    "# Implementción de un paso de la función de log-verosimilitud"
   ]
  },
  {
   "cell_type": "code",
   "execution_count": 66,
   "metadata": {},
   "outputs": [
    {
     "name": "stdout",
     "output_type": "stream",
     "text": [
      "Datos simulados: [8.52810469 5.80031442 6.95747597 9.4817864  8.73511598 3.04544424\n",
      " 6.90017684 4.69728558 4.7935623  5.821197  ]\n",
      "Estimación inicial de mu: 0\n",
      "Log-verosimilitud inicial: -539.6307561569383\n",
      "Derivada de la log-verosimilitud en mu inicial: 127.99040077672426\n",
      "Mu actualizado: 1.2799040077672426\n"
     ]
    }
   ],
   "source": [
    "import numpy as np\n",
    "\n",
    "# Parámetros reales\n",
    "mu_real = 5\n",
    "sigma = 2\n",
    "\n",
    "# Generar datos simulados\n",
    "np.random.seed(0)\n",
    "data = np.random.normal(mu_real, sigma, 100)\n",
    "print(\"Datos simulados:\", data[:10])  # Mostramos los primeros 5 datos\n",
    "\n",
    "# Definir la función de log-verosimilitud\n",
    "def log_likelihood(mu, data, sigma):\n",
    "    n = len(data)  # Número de datos\n",
    "    # Calculamos la log-verosimilitud\n",
    "    log_lik = -n/2 * np.log(2 * np.pi * sigma**2) - 1/(2 * sigma**2) * np.sum((data - mu)**2)\n",
    "    return log_lik\n",
    "\n",
    "# Estimación inicial de mu\n",
    "mu_initial = 0\n",
    "print(\"Estimación inicial de mu:\", mu_initial)\n",
    "\n",
    "# Calcular la log-verosimilitud para la estimación inicial de mu\n",
    "log_lik_initial = log_likelihood(mu_initial, data, sigma)\n",
    "print(\"Log-verosimilitud inicial:\", log_lik_initial)\n",
    "\n",
    "# Definir la función para la derivada de la log-verosimilitud\n",
    "def d_log_likelihood(mu, data, sigma):\n",
    "    # Derivada de la log-verosimilitud con respecto a mu\n",
    "    n = len(data)\n",
    "    derivative = np.sum(data - mu) / sigma**2\n",
    "    return derivative\n",
    "\n",
    "# Calcular la derivada de la log-verosimilitud en mu inicial\n",
    "derivative_initial = d_log_likelihood(mu_initial, data, sigma)\n",
    "print(\"Derivada de la log-verosimilitud en mu inicial:\", derivative_initial)\n",
    "\n",
    "# Tasa de aprendizaje para la actualización de mu\n",
    "learning_rate = 0.01\n",
    "\n",
    "# Actualización de mu usando gradiente descendente\n",
    "mu_updated = mu_initial + learning_rate * derivative_initial\n",
    "print(\"Mu actualizado:\", mu_updated)\n"
   ]
  },
  {
   "cell_type": "code",
   "execution_count": 116,
   "metadata": {},
   "outputs": [
    {
     "name": "stdout",
     "output_type": "stream",
     "text": [
      "Log-verosimilitud nueva: -211.99990233731344\n",
      "Derivada de la log-verosimilitud: 7.24837357837238e-05\n",
      "Mu actualizado: 5.119613856556897\n"
     ]
    }
   ],
   "source": [
    "# Calcular la log-verosimilitud para la estimación inicial de mu\n",
    "log_lik_initial = log_likelihood(mu_updated, data, sigma)\n",
    "print(\"Log-verosimilitud nueva:\", log_lik_initial)\n",
    "\n",
    "# Calcular la derivada de la log-verosimilitud en mu inicial\n",
    "derivative = d_log_likelihood(mu_updated, data, sigma)\n",
    "print(\"Derivada de la log-verosimilitud:\", derivative)\n",
    "\n",
    "# Tasa de aprendizaje para la actualización de mu\n",
    "learning_rate = 0.01\n",
    "\n",
    "# Actualización de mu usando gradiente descendente\n",
    "mu_updated += learning_rate * derivative\n",
    "print(\"Mu actualizado:\", mu_updated)"
   ]
  }
 ],
 "metadata": {
  "kernelspec": {
   "display_name": ".ealab",
   "language": "python",
   "name": "python3"
  },
  "language_info": {
   "codemirror_mode": {
    "name": "ipython",
    "version": 3
   },
   "file_extension": ".py",
   "mimetype": "text/x-python",
   "name": "python",
   "nbconvert_exporter": "python",
   "pygments_lexer": "ipython3",
   "version": "3.9.13"
  }
 },
 "nbformat": 4,
 "nbformat_minor": 2
}
