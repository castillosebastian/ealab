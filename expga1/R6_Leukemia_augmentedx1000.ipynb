{
 "cells": [
  {
   "cell_type": "code",
   "execution_count": 1,
   "metadata": {},
   "outputs": [],
   "source": [
    "import pandas as pd\n",
    "import matplotlib.pyplot as plt\n",
    "import seaborn as sns\n",
    "import numpy as np\n",
    "from scipy.io import arff\n",
    "import json\n",
    "pd.set_option('display.max_rows', None)  # This line allows all rows to be displayed\n",
    "pd.set_option('display.max_columns', None)  # This line allows all columns to be displayed\n",
    "\n"
   ]
  },
  {
   "cell_type": "markdown",
   "metadata": {},
   "source": [
    "# Foco en:\n",
    "\n",
    "0003' realizado con dataset aumentado en 1000 observaciones mediante un VAE, cromosoma activo 0.1, alpha 0.5, 30 pruebas. \n",
    "  \n"
   ]
  },
  {
   "cell_type": "code",
   "execution_count": 2,
   "metadata": {},
   "outputs": [],
   "source": [
    "data = pd.read_csv('experiments_results.csv')\n",
    "data.head()"
   ]
  },
  {
   "cell_type": "code",
   "execution_count": 3,
   "metadata": {},
   "outputs": [
    {
     "data": {
      "text/plain": [
       "experiment_name\n",
       "leukemia_base_0003_0    1\n",
       "leukemia_base_0003_1    1\n",
       "leukemia_base_0003_2    1\n",
       "Name: count, dtype: int64"
      ]
     },
     "execution_count": 3,
     "metadata": {},
     "output_type": "execute_result"
    }
   ],
   "source": [
    "leukemias = data[data['experiment_name'].str.contains('leukemia_base_0003')]\n",
    "# extract the firts 18 letters of the experiment name\n",
    "leukemias['experiment_name'].value_counts()"
   ]
  },
  {
   "cell_type": "markdown",
   "metadata": {},
   "source": [
    "#### Experimentos excluidos\n",
    "\n",
    "Excluiremos del análisis experimentos con menos de 30 pruebas, para que la comparación de resultados entre dataset original y aumentado sea en igualdad de condiciones.\n",
    "Excluimos el experimento 0008 porque corresponde a la exploración de una configuración extrema del parámetro alpha, y no es representativo de la configuración general de los experimentos."
   ]
  },
  {
   "cell_type": "markdown",
   "metadata": {},
   "source": [
    "## Exploración de la selección de características"
   ]
  },
  {
   "cell_type": "code",
   "execution_count": 4,
   "metadata": {},
   "outputs": [],
   "source": [
    "# Replace 'your_file.json' with the path to your JSON file\n",
    "with open('experiments.json', 'r') as file:\n",
    "    features = json.load(file)\n"
   ]
  },
  {
   "cell_type": "code",
   "execution_count": null,
   "metadata": {},
   "outputs": [],
   "source": [
    "# for i in features:\n",
    "#     print(i)\n",
    "#     print(features[i]['selected_features_bin'])\n",
    "#     print('-'*10)"
   ]
  },
  {
   "cell_type": "code",
   "execution_count": 5,
   "metadata": {},
   "outputs": [],
   "source": [
    "all_features_selected_augmented1000 = []\n",
    "for i in features:    \n",
    "    if  '0003' in i:\n",
    "            all_features_selected_augmented1000 += features[i]['selected_features_bin']\n",
    "    \n",
    "                  "
   ]
  },
  {
   "cell_type": "markdown",
   "metadata": {},
   "source": [
    "Conjunto de features seleccionados en los 3 experimentos al menos una vez"
   ]
  },
  {
   "cell_type": "code",
   "execution_count": 6,
   "metadata": {},
   "outputs": [
    {
     "data": {
      "text/plain": [
       "1811"
      ]
     },
     "execution_count": 6,
     "metadata": {},
     "output_type": "execute_result"
    }
   ],
   "source": [
    "len(set(all_features_selected_augmented1000))"
   ]
  },
  {
   "cell_type": "code",
   "execution_count": 7,
   "metadata": {},
   "outputs": [],
   "source": [
    "features_augmented = pd.DataFrame({'features_original' : all_features_selected_augmented1000}) \\\n",
    "    .groupby('features_original') \\\n",
    "    .size() \\\n",
    "    .reset_index(name='freq') \\\n",
    "    .sort_values(by='freq', ascending=False) \\\n",
    "    .rename(columns={'features_original': 'features'})"
   ]
  },
  {
   "cell_type": "markdown",
   "metadata": {},
   "source": [
    "Hay elementos comunes a todas las pruebas en cada experimento? \n",
    "No hay elementos comunes a todas las pruebas"
   ]
  },
  {
   "cell_type": "code",
   "execution_count": null,
   "metadata": {},
   "outputs": [
    {
     "name": "stdout",
     "output_type": "stream",
     "text": [
      "set()\n"
     ]
    }
   ],
   "source": [
    "# all_features_selected_original = []\n",
    "# all_features_selected_augmented = []\n",
    "# for i in features:    \n",
    "#     if  '0001' in i:\n",
    "#             all_features_selected_original.append(features[i]['selected_features_bin'])\n",
    "#     elif '0002' in i:\n",
    "#           all_features_selected_augmented.append(features[i]['selected_features_bin'])\n",
    "# # Convert the first list to a set to start with\n",
    "# common_elements = set(all_features_selected_augmented[0])\n",
    "# # Iterate over the rest of the lists and update 'common_elements' to keep only the common elements\n",
    "# for lst in all_features_selected_original[1:]:\n",
    "#     common_elements.intersection_update(lst)\n",
    "# # 'common_elements' now contains only the elements that were present in all lists\n",
    "# print(common_elements)"
   ]
  },
  {
   "cell_type": "markdown",
   "metadata": {},
   "source": [
    "## Distribución de frecuencia de los features seleccionados"
   ]
  },
  {
   "cell_type": "code",
   "execution_count": 8,
   "metadata": {},
   "outputs": [
    {
     "data": {
      "text/plain": [
       "Text(0.5, 1.0, 'Frecuency of features selected across trials in Augmented Dataset')"
      ]
     },
     "execution_count": 8,
     "metadata": {},
     "output_type": "execute_result"
    },
    {
     "data": {
      "image/png": "[encoded data removed]",
      "text/plain": [
       "<Figure size 640x480 with 1 Axes>"
      ]
     },
     "metadata": {},
     "output_type": "display_data"
    }
   ],
   "source": [
    "plt.hist(features_augmented['freq'])\n",
    "plt.xlabel('freq')\n",
    "plt.ylabel('observations') \n",
    "plt.title('Frecuency of features selected across trials in Augmented Dataset')"
   ]
  },
  {
   "cell_type": "code",
   "execution_count": 14,
   "metadata": {},
   "outputs": [
    {
     "data": {
      "text/plain": [
       "freq\n",
       "1    1639\n",
       "2     168\n",
       "3       4\n",
       "Name: count, dtype: int64"
      ]
     },
     "execution_count": 14,
     "metadata": {},
     "output_type": "execute_result"
    }
   ],
   "source": [
    "features_augmented['freq'].value_counts()\n"
   ]
  }
 ],
 "metadata": {
  "kernelspec": {
   "display_name": ".ealab",
   "language": "python",
   "name": "python3"
  },
  "language_info": {
   "codemirror_mode": {
    "name": "ipython",
    "version": 3
   },
   "file_extension": ".py",
   "mimetype": "text/x-python",
   "name": "python",
   "nbconvert_exporter": "python",
   "pygments_lexer": "ipython3",
   "version": "3.9.13"
  }
 },
 "nbformat": 4,
 "nbformat_minor": 2
}
